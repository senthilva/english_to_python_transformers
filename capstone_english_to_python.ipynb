{
  "nbformat": 4,
  "nbformat_minor": 0,
  "metadata": {
    "colab": {
      "name": "capstone_english_to_python.ipynb",
      "provenance": [],
      "collapsed_sections": []
    },
    "kernelspec": {
      "name": "python3",
      "display_name": "Python 3"
    },
    "accelerator": "GPU"
  },
  "cells": [
    {
      "cell_type": "markdown",
      "metadata": {
        "id": "GKtVON3v-n3T"
      },
      "source": [
        "# **The objective is to try and generate python code from an english sentence.**\n",
        "\n",
        "\n"
      ]
    },
    {
      "cell_type": "code",
      "metadata": {
        "id": "xWP0QddRSqu0"
      },
      "source": [
        "#! pip install torchtext==0.6.0"
      ],
      "execution_count": 1,
      "outputs": []
    },
    {
      "cell_type": "code",
      "metadata": {
        "id": "G4gJ7S6eh7jj"
      },
      "source": [
        "CUDA_LAUNCH_BLOCKING=\"1\""
      ],
      "execution_count": 2,
      "outputs": []
    },
    {
      "cell_type": "markdown",
      "metadata": {
        "id": "Ea8GvfdmLwnw"
      },
      "source": [
        ""
      ]
    },
    {
      "cell_type": "markdown",
      "metadata": {
        "id": "Yuh5BPAtButa"
      },
      "source": [
        "![](https://raw.githubusercontent.com/bentrevett/pytorch-seq2seq/9479fcb532214ad26fd4bda9fcf081a05e1aaf4e/assets/transformer1.png)"
      ]
    },
    {
      "cell_type": "code",
      "metadata": {
        "id": "4i6cF3OyJD_M",
        "colab": {
          "resources": {
            "http://localhost:8080/nbextensions/google.colab/files.js": {
              "data": "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",
              "ok": true,
              "headers": [
                [
                  "content-type",
                  "application/javascript"
                ]
              ],
              "status": 200,
              "status_text": ""
            }
          },
          "base_uri": "https://localhost:8080/",
          "height": 72
        },
        "outputId": "64175cca-fb4c-4cfa-a202-b739949ab787"
      },
      "source": [
        "from google.colab import files\n",
        "uploaded = files.upload()"
      ],
      "execution_count": 3,
      "outputs": [
        {
          "output_type": "display_data",
          "data": {
            "text/html": [
              "\n",
              "     <input type=\"file\" id=\"files-cda8d2a9-10b0-469c-9c8d-1883405783c7\" name=\"files[]\" multiple disabled\n",
              "        style=\"border:none\" />\n",
              "     <output id=\"result-cda8d2a9-10b0-469c-9c8d-1883405783c7\">\n",
              "      Upload widget is only available when the cell has been executed in the\n",
              "      current browser session. Please rerun this cell to enable.\n",
              "      </output>\n",
              "      <script src=\"/nbextensions/google.colab/files.js\"></script> "
            ],
            "text/plain": [
              "<IPython.core.display.HTML object>"
            ]
          },
          "metadata": {
            "tags": []
          }
        },
        {
          "output_type": "stream",
          "text": [
            "Saving clean_data.txt to clean_data.txt\n"
          ],
          "name": "stdout"
        }
      ]
    },
    {
      "cell_type": "code",
      "metadata": {
        "id": "cgTxHeAvl3Er"
      },
      "source": [
        "import torch\n",
        "import torch.nn as nn\n",
        "import torch.optim as optim\n",
        "\n",
        "import torchtext\n",
        "#from torchtext.datasets import Multi30k\n",
        "from torchtext.legacy.data import Field, BucketIterator,TabularDataset\n",
        "\n",
        "import matplotlib.pyplot as plt\n",
        "import matplotlib.ticker as ticker\n",
        "\n",
        "import spacy\n",
        "\n",
        "from spacy.tokenizer import Tokenizer\n",
        "import numpy as np\n",
        "import pandas as pd\n",
        "\n",
        "import random\n",
        "import math\n",
        "import time\n",
        "import os\n",
        "import re\n",
        "import keyword\n"
      ],
      "execution_count": 4,
      "outputs": []
    },
    {
      "cell_type": "code",
      "metadata": {
        "id": "KwMMe5CQCU5g"
      },
      "source": [
        "SEED = 3333\n",
        "\n",
        "random.seed(SEED)\n",
        "np.random.seed(SEED)\n",
        "torch.manual_seed(SEED)\n",
        "torch.cuda.manual_seed(SEED)\n",
        "torch.backends.cudnn.deterministic = True"
      ],
      "execution_count": 5,
      "outputs": []
    },
    {
      "cell_type": "code",
      "metadata": {
        "id": "xpNTE2GhCY2V",
        "colab": {
          "base_uri": "https://localhost:8080/"
        },
        "outputId": "802e9106-1fe6-4d17-8a58-4998f1eacb0b"
      },
      "source": [
        "!python -m spacy download en\n"
      ],
      "execution_count": 6,
      "outputs": [
        {
          "output_type": "stream",
          "text": [
            "Requirement already satisfied: en_core_web_sm==2.2.5 from https://github.com/explosion/spacy-models/releases/download/en_core_web_sm-2.2.5/en_core_web_sm-2.2.5.tar.gz#egg=en_core_web_sm==2.2.5 in /usr/local/lib/python3.7/dist-packages (2.2.5)\n",
            "Requirement already satisfied: spacy>=2.2.2 in /usr/local/lib/python3.7/dist-packages (from en_core_web_sm==2.2.5) (2.2.4)\n",
            "Requirement already satisfied: cymem<2.1.0,>=2.0.2 in /usr/local/lib/python3.7/dist-packages (from spacy>=2.2.2->en_core_web_sm==2.2.5) (2.0.5)\n",
            "Requirement already satisfied: preshed<3.1.0,>=3.0.2 in /usr/local/lib/python3.7/dist-packages (from spacy>=2.2.2->en_core_web_sm==2.2.5) (3.0.5)\n",
            "Requirement already satisfied: blis<0.5.0,>=0.4.0 in /usr/local/lib/python3.7/dist-packages (from spacy>=2.2.2->en_core_web_sm==2.2.5) (0.4.1)\n",
            "Requirement already satisfied: catalogue<1.1.0,>=0.0.7 in /usr/local/lib/python3.7/dist-packages (from spacy>=2.2.2->en_core_web_sm==2.2.5) (1.0.0)\n",
            "Requirement already satisfied: setuptools in /usr/local/lib/python3.7/dist-packages (from spacy>=2.2.2->en_core_web_sm==2.2.5) (54.1.2)\n",
            "Requirement already satisfied: requests<3.0.0,>=2.13.0 in /usr/local/lib/python3.7/dist-packages (from spacy>=2.2.2->en_core_web_sm==2.2.5) (2.23.0)\n",
            "Requirement already satisfied: numpy>=1.15.0 in /usr/local/lib/python3.7/dist-packages (from spacy>=2.2.2->en_core_web_sm==2.2.5) (1.19.5)\n",
            "Requirement already satisfied: plac<1.2.0,>=0.9.6 in /usr/local/lib/python3.7/dist-packages (from spacy>=2.2.2->en_core_web_sm==2.2.5) (1.1.3)\n",
            "Requirement already satisfied: tqdm<5.0.0,>=4.38.0 in /usr/local/lib/python3.7/dist-packages (from spacy>=2.2.2->en_core_web_sm==2.2.5) (4.41.1)\n",
            "Requirement already satisfied: thinc==7.4.0 in /usr/local/lib/python3.7/dist-packages (from spacy>=2.2.2->en_core_web_sm==2.2.5) (7.4.0)\n",
            "Requirement already satisfied: wasabi<1.1.0,>=0.4.0 in /usr/local/lib/python3.7/dist-packages (from spacy>=2.2.2->en_core_web_sm==2.2.5) (0.8.2)\n",
            "Requirement already satisfied: murmurhash<1.1.0,>=0.28.0 in /usr/local/lib/python3.7/dist-packages (from spacy>=2.2.2->en_core_web_sm==2.2.5) (1.0.5)\n",
            "Requirement already satisfied: srsly<1.1.0,>=1.0.2 in /usr/local/lib/python3.7/dist-packages (from spacy>=2.2.2->en_core_web_sm==2.2.5) (1.0.5)\n",
            "Requirement already satisfied: importlib-metadata>=0.20; python_version < \"3.8\" in /usr/local/lib/python3.7/dist-packages (from catalogue<1.1.0,>=0.0.7->spacy>=2.2.2->en_core_web_sm==2.2.5) (3.7.2)\n",
            "Requirement already satisfied: certifi>=2017.4.17 in /usr/local/lib/python3.7/dist-packages (from requests<3.0.0,>=2.13.0->spacy>=2.2.2->en_core_web_sm==2.2.5) (2020.12.5)\n",
            "Requirement already satisfied: idna<3,>=2.5 in /usr/local/lib/python3.7/dist-packages (from requests<3.0.0,>=2.13.0->spacy>=2.2.2->en_core_web_sm==2.2.5) (2.10)\n",
            "Requirement already satisfied: urllib3!=1.25.0,!=1.25.1,<1.26,>=1.21.1 in /usr/local/lib/python3.7/dist-packages (from requests<3.0.0,>=2.13.0->spacy>=2.2.2->en_core_web_sm==2.2.5) (1.24.3)\n",
            "Requirement already satisfied: chardet<4,>=3.0.2 in /usr/local/lib/python3.7/dist-packages (from requests<3.0.0,>=2.13.0->spacy>=2.2.2->en_core_web_sm==2.2.5) (3.0.4)\n",
            "Requirement already satisfied: zipp>=0.5 in /usr/local/lib/python3.7/dist-packages (from importlib-metadata>=0.20; python_version < \"3.8\"->catalogue<1.1.0,>=0.0.7->spacy>=2.2.2->en_core_web_sm==2.2.5) (3.4.1)\n",
            "Requirement already satisfied: typing-extensions>=3.6.4; python_version < \"3.8\" in /usr/local/lib/python3.7/dist-packages (from importlib-metadata>=0.20; python_version < \"3.8\"->catalogue<1.1.0,>=0.0.7->spacy>=2.2.2->en_core_web_sm==2.2.5) (3.7.4.3)\n",
            "\u001b[38;5;2m✔ Download and installation successful\u001b[0m\n",
            "You can now load the model via spacy.load('en_core_web_sm')\n",
            "\u001b[38;5;2m✔ Linking successful\u001b[0m\n",
            "/usr/local/lib/python3.7/dist-packages/en_core_web_sm -->\n",
            "/usr/local/lib/python3.7/dist-packages/spacy/data/en\n",
            "You can now load the model via spacy.load('en')\n"
          ],
          "name": "stdout"
        }
      ]
    },
    {
      "cell_type": "markdown",
      "metadata": {
        "id": "KIlMG-fzSrxe"
      },
      "source": [
        "# Data processing\n",
        "\n",
        "\n",
        "Program to read the input data and process it for the transformer model\n",
        "- Read the file and split into english and corresponding python code\n",
        "- format the python code into one line\n",
        "    - factor new line\n",
        "    - factor tabs\n",
        "\n",
        "Challenges in the input data\n",
        "\n",
        "    - Messy start various options to segment the input data \n",
        "        #write ; #1 ; #  write\n",
        "    - clean input file\n",
        "        - removed # comments len < 10 & 20 after checking \n",
        "        - updated few manually\n",
        "        - remove comments in the code ???\n",
        "        # dd - remove pattern\n",
        "\n",
        "Segment the input file\n",
        "    - identify marker - messy data\n",
        "    - extract segment\n",
        "    - extract english sentence within segment\n",
        "    - extract python code within python\n",
        "    - format python code to one line\n",
        "\n",
        "\n",
        "\n",
        "\n"
      ]
    },
    {
      "cell_type": "code",
      "metadata": {
        "id": "uKHuuC1yJ4K6",
        "colab": {
          "base_uri": "https://localhost:8080/"
        },
        "outputId": "5aa12c45-1bc7-4a5f-eeba-0c6c600b4e11"
      },
      "source": [
        "#out dataframe\n",
        "out_df = pd.DataFrame(columns = ['src', 'python'])\n",
        "\n",
        "input_file = 'clean_data.txt'\n",
        "output_file = os.path.join('analysis_shortv3.txt')\n",
        "# first print all lines starting with # with count\n",
        "with open(output_file,'w') as out_file:\n",
        "    eng_buf = ''\n",
        "    py_buf = ''\n",
        "    samples = 0\n",
        "    with open(input_file) as in_file:\n",
        "        for idx,line in enumerate(in_file):\n",
        "            if line.startswith('#') and len(line) > 30:\n",
        "                samples = samples + 1\n",
        "                out_df.loc[len(out_df)] = [eng_buf,py_buf]\n",
        "                py_buf = ''\n",
        "                eng_buf = line\n",
        "                #print(line)\n",
        "                #out_file.write(line)\n",
        "            else :\n",
        "                py_buf = py_buf + line\n",
        "                #out_file.write(line)\n",
        "            #if samples > 10:\n",
        "                #break\n",
        "print(f\" Count of # :{idx}\")\n",
        "\n",
        "# Data cleaning\n",
        "\n",
        "# Replace tabs with 4 spaces and trim leading and trailing spaces\n",
        "\n",
        "out_df['python']= out_df['python'].str.replace('\\t', '    ')\n",
        "out_df['python']= out_df['python'].str.strip()\n",
        "\n",
        "# clean spaces \n",
        "# 3->4\n",
        "# 7->8\n",
        "# 11->12\n",
        "\n",
        "reg3s_pat = re.compile(r'(:?\\n)[\\s]{3}([\\w])')\n",
        "reg7s_pat = re.compile(r'(:?\\n)[\\s]{7}([\\w])')\n",
        "reg11s_pat = re.compile(r'(:?\\n)[\\s]{11}([\\w])')\n",
        "\n",
        "def regex_clean(val):\n",
        "\n",
        "    clean_py = reg3s_pat.sub(r'\\1    \\2', val)\n",
        "    clean_py = reg7s_pat.sub(r'\\1        \\2', clean_py)\n",
        "    clean_py = reg11s_pat.sub(r'\\1            \\2', clean_py)\n",
        "    \n",
        "    return clean_py\n",
        "\n",
        "out_df['trg'] = out_df['python'].apply(regex_clean)\n"
      ],
      "execution_count": 7,
      "outputs": [
        {
          "output_type": "stream",
          "text": [
            " Count of # :42424\n"
          ],
          "name": "stdout"
        }
      ]
    },
    {
      "cell_type": "markdown",
      "metadata": {
        "id": "ozTszvK6MAL7"
      },
      "source": [
        "# Data Augmentation Strategy\n",
        "\n",
        "The # of original samples is ~4.5 K which cause the model to overfit.There are 2 potential approaches I considered : augment english text or augment python code. As changing of english text might change the semantics/ context; considered only augmenting python code. Approach for augmenting python code\n",
        "\n",
        "Replace functions names and give generic names\n",
        "Replace var names and give generic names"
      ]
    },
    {
      "cell_type": "code",
      "metadata": {
        "id": "p6sJ0j920Ibt"
      },
      "source": [
        "# Patterns to match function and variable names\n",
        "func_pat = re.compile('def (?P<func_name>[\\w]+?)\\(')\n",
        "var_pat = re.compile(r'\\n\\s*(?P<var_name>[\\w]+?)\\s*=')\n",
        "\n",
        "# Create new dataset by regex matching function \n",
        "# and variable names and giving generic names\n",
        "final_df = pd.DataFrame(columns = ['src','trg'])\n",
        "for row_idx,row in out_df.iterrows():\n",
        "    # base copy\n",
        "    final_df.loc[len(final_df)] = [row.src,row.trg]\n",
        "    var_list = []\n",
        "    func_list = []\n",
        "    #print(row.trg)\n",
        "    func_list = list(set(func_pat.findall(row.trg)))\n",
        "    var_list = list(set(var_pat.findall(row.trg)))\n",
        "    if var_list:\n",
        "        for var_idx,var in enumerate(var_list):\n",
        "            varname = \"var_\"+ str(var_idx)\n",
        "            final_df.loc[len(final_df)] = [row.src,row.trg.replace(var,varname)]\n",
        "    if func_list:\n",
        "        for func_idx,func in enumerate(func_list):\n",
        "            funcname = \"func_\"+ str(func_idx)\n",
        "            final_df.loc[len(final_df)] = [row.src,row.trg.replace(func,funcname)]\n",
        "    #if row_idx == 3: break\n",
        "    "
      ],
      "execution_count": 8,
      "outputs": []
    },
    {
      "cell_type": "code",
      "metadata": {
        "id": "69EcYdmjP56q",
        "colab": {
          "base_uri": "https://localhost:8080/"
        },
        "outputId": "90ac48f7-dbd0-42d1-ebf9-8edfd5404bc0"
      },
      "source": [
        "'''\n",
        "out_df['len'] = out_df['trg'].str.len()\n",
        "fout_df = out_df[out_df['len'] < 500][['src','trg']]\n",
        "print(len(fout_df)/len(out_df))\n",
        "fout_df.to_csv('p_data.csv')\n",
        "'''\n",
        "final_df['len'] = final_df['trg'].str.len()\n",
        "fout_df = final_df[final_df['len'] < 500][['src','trg']]\n",
        "print(len(fout_df)/len(final_df))\n",
        "fout_df.to_csv('p_data.csv')"
      ],
      "execution_count": 9,
      "outputs": [
        {
          "output_type": "stream",
          "text": [
            "0.8974421240084183\n"
          ],
          "name": "stdout"
        }
      ]
    },
    {
      "cell_type": "code",
      "metadata": {
        "id": "cgF-cYRf3OxI",
        "colab": {
          "base_uri": "https://localhost:8080/"
        },
        "outputId": "a1bde7b4-52c2-408b-e547-9ea9291a3d63"
      },
      "source": [
        "print(f\"Data Samples after augmentation : {len(final_df)}\")"
      ],
      "execution_count": 89,
      "outputs": [
        {
          "output_type": "stream",
          "text": [
            "Data Samples after augmentation : 12354\n"
          ],
          "name": "stdout"
        }
      ]
    },
    {
      "cell_type": "code",
      "metadata": {
        "id": "j37U6a5OCi_M"
      },
      "source": [
        "spacy_en = spacy.load('en')"
      ],
      "execution_count": 11,
      "outputs": []
    },
    {
      "cell_type": "code",
      "metadata": {
        "id": "15wydnnsCpH0"
      },
      "source": [
        "\n",
        "def tokenize_en(text):\n",
        "    \"\"\"\n",
        "    Tokenizes English text from a string into a list of strings\n",
        "    \"\"\"\n",
        "    return [tok.text for tok in spacy_en.tokenizer(text)]"
      ],
      "execution_count": 12,
      "outputs": []
    },
    {
      "cell_type": "markdown",
      "metadata": {
        "id": "zgFi3leWMLtB"
      },
      "source": [
        "# Tokenization Approach\n",
        "\n",
        "* Built a custom tokenizer using the spacy(en) as base\n",
        "* custom rules\n",
        "* factor spaces as a token\n",
        "* key words\n",
        "* tabs after : and in blocks\n",
        "* == , >=, <= to be treated as single token\n",
        "* handled [,],(,),{,}"
      ]
    },
    {
      "cell_type": "code",
      "metadata": {
        "id": "TLA9Kyk4txba"
      },
      "source": [
        "# Tokenizer for python\n",
        "\n",
        "# Get all keywords\n",
        "kw_dict = {}\n",
        "for kw in keyword.kwlist:\n",
        "    kw_dict[kw]= [{\"ORTH\":kw}]\n",
        "\n",
        "# learn 4, 8 12 spaces\n",
        "special_tabs = ['\\\\n    ','\\\\n        ','\\\\n            ']\n",
        "for tab in special_tabs:\n",
        "    kw_dict[tab] = [{\"ORTH\":tab}]\n",
        "#kw_dict    \n",
        "\n",
        "special_cases = kw_dict\n",
        "#prefix_re = re.compile(r'''^[\\[\\(\"']''')\n",
        "#suffix_re = re.compile(r'''[\\]\\)\"']$''')\n",
        "#infix_re = re.compile(r'''(==|>=|<=|!=|\\(|\\)|:|\"|\\[|\\]|=|,|')''')\n",
        "# Mar17 infix_re = re.compile(r'''(==|>=|<=|!=|\\(|\\)|:|\\[|\\]|=|,)''')\n",
        "infix_re = re.compile(r'''(==|>=|<=|!=|\\,|\\?|\\:|\\;|.\n",
        "                          |\\‘|\\’|\\`|\\“|\\”|\\\"|\\'|~|\\(|\\)|\\[|\\])''')\n",
        "#infix_re = re.compile(r'''(==|>=|<=|!=|:|=|,)''')\n",
        "\n",
        "\n",
        "def python_tokenizer(nlp):\n",
        "    return Tokenizer(nlp.vocab, #rules=special_cases,\n",
        "                                #prefix_search=prefix_re.search,\n",
        "                                #suffix_search=suffix_re.search,\n",
        "                                infix_finditer=infix_re.finditer)\n",
        "                                #url_match=simple_url_re.match)\n",
        "\n",
        "\n",
        "py_custom = python_tokenizer(spacy_en)"
      ],
      "execution_count": 13,
      "outputs": []
    },
    {
      "cell_type": "markdown",
      "metadata": {
        "id": "QRNnMF-NMZ1Y"
      },
      "source": [
        "# Modifiy the tokenizer to factor whitespace"
      ]
    },
    {
      "cell_type": "code",
      "metadata": {
        "id": "9CWu5nsD0OBw"
      },
      "source": [
        "#Modified the py thokenizer to factor spaces\n",
        "\n",
        "def tokenize_py(text):\n",
        "    \"\"\"\n",
        "    Tokenizes English text from a string into a list of strings\n",
        "    \"\"\"\n",
        "    token_texts = []\n",
        "    for token in py_custom(text):\n",
        "       token_texts.append(token.text)\n",
        "       if token.whitespace_:  # filter out empty strings\n",
        "           token_texts.append(token.whitespace_)\n",
        "    return token_texts"
      ],
      "execution_count": 14,
      "outputs": []
    },
    {
      "cell_type": "code",
      "metadata": {
        "id": "60O0YZ8eCrLd"
      },
      "source": [
        "SRC = Field(tokenize = tokenize_en, \n",
        "            init_token = '<sos>', \n",
        "            eos_token = '<eos>', \n",
        "            lower = True, \n",
        "            batch_first = True)\n",
        "\n",
        "TRG = Field(tokenize = tokenize_py, \n",
        "            init_token = '<sos>', \n",
        "            eos_token = '<eos>', \n",
        "            lower = True, \n",
        "            batch_first = True)\n",
        "\n",
        "fields = {'src' : ('src', SRC),\n",
        "          'trg' : ('trg', TRG)}"
      ],
      "execution_count": 15,
      "outputs": []
    },
    {
      "cell_type": "code",
      "metadata": {
        "id": "gQ0e9aMvMRgn"
      },
      "source": [
        "e2p_data  = TabularDataset(\n",
        "                            path = 'p_data.csv',\n",
        "                            format = 'csv',\n",
        "                            fields = fields\n",
        "                            )"
      ],
      "execution_count": 16,
      "outputs": []
    },
    {
      "cell_type": "code",
      "metadata": {
        "id": "5TzuyiGaCstq"
      },
      "source": [
        "train_data, valid_data, test_data = e2p_data.split([0.7,.2,.1])"
      ],
      "execution_count": 17,
      "outputs": []
    },
    {
      "cell_type": "code",
      "metadata": {
        "id": "fETHzIIyCu7p"
      },
      "source": [
        "SRC.build_vocab(train_data, min_freq = 1)\n",
        "TRG.build_vocab(train_data, min_freq = 1)"
      ],
      "execution_count": 18,
      "outputs": []
    },
    {
      "cell_type": "code",
      "metadata": {
        "id": "2FCUYUuTeWLB"
      },
      "source": [
        ""
      ],
      "execution_count": 18,
      "outputs": []
    },
    {
      "cell_type": "code",
      "metadata": {
        "id": "2XONz6UrCwuh",
        "colab": {
          "base_uri": "https://localhost:8080/"
        },
        "outputId": "e184907f-292f-449d-d410-b5f075c0e27d"
      },
      "source": [
        "device = torch.device('cuda' if torch.cuda.is_available() else 'cpu')\n",
        "device"
      ],
      "execution_count": 19,
      "outputs": [
        {
          "output_type": "execute_result",
          "data": {
            "text/plain": [
              "device(type='cuda')"
            ]
          },
          "metadata": {
            "tags": []
          },
          "execution_count": 19
        }
      ]
    },
    {
      "cell_type": "code",
      "metadata": {
        "id": "aBtCv6sACyZ8"
      },
      "source": [
        "BATCH_SIZE = 128\n",
        "\n",
        "train_iterator, valid_iterator, test_iterator = BucketIterator.splits(\n",
        "    (train_data, valid_data, test_data), \n",
        "    batch_size = BATCH_SIZE,\n",
        "    device = device,\n",
        "    sort_within_batch = True,\n",
        "    sort_key = lambda x: len(x.src))"
      ],
      "execution_count": 20,
      "outputs": []
    },
    {
      "cell_type": "markdown",
      "metadata": {
        "id": "HgvD_MpkC2OS"
      },
      "source": [
        "![](https://raw.githubusercontent.com/bentrevett/pytorch-seq2seq/9479fcb532214ad26fd4bda9fcf081a05e1aaf4e/assets/transformer-encoder.png)"
      ]
    },
    {
      "cell_type": "code",
      "metadata": {
        "id": "NE6JimgOCz-w"
      },
      "source": [
        "class Encoder(nn.Module):\n",
        "    def __init__(self, \n",
        "                 input_dim, \n",
        "                 hid_dim, \n",
        "                 n_layers, \n",
        "                 n_heads, \n",
        "                 pf_dim,\n",
        "                 dropout, \n",
        "                 device,\n",
        "                 max_length = 300):\n",
        "        super().__init__()\n",
        "\n",
        "        self.device = device\n",
        "        \n",
        "        self.tok_embedding = nn.Embedding(input_dim, hid_dim)\n",
        "        self.pos_embedding = nn.Embedding(max_length, hid_dim)\n",
        "        \n",
        "        self.layers = nn.ModuleList([EncoderLayer(hid_dim, \n",
        "                                                  n_heads, \n",
        "                                                  pf_dim,\n",
        "                                                  dropout, \n",
        "                                                  device) \n",
        "                                     for _ in range(n_layers)])\n",
        "        \n",
        "        self.dropout = nn.Dropout(dropout)\n",
        "        \n",
        "        self.scale = torch.sqrt(torch.FloatTensor([hid_dim])).to(device)\n",
        "        \n",
        "    def forward(self, src, src_mask):\n",
        "        \n",
        "        #src = [batch size, src len]\n",
        "        #src_mask = [batch size, 1, 1, src len]\n",
        "        \n",
        "        batch_size = src.shape[0]\n",
        "        src_len = src.shape[1]\n",
        "        \n",
        "        pos = torch.arange(0, src_len).unsqueeze(0).repeat(batch_size, 1).to(self.device)\n",
        "        \n",
        "        #pos = [batch size, src len]\n",
        "        \n",
        "        src = self.dropout((self.tok_embedding(src) * self.scale) + self.pos_embedding(pos))\n",
        "        \n",
        "        #src = [batch size, src len, hid dim]\n",
        "        \n",
        "        for layer in self.layers:\n",
        "            src = layer(src, src_mask)\n",
        "            \n",
        "        #src = [batch size, src len, hid dim]\n",
        "            \n",
        "        return src"
      ],
      "execution_count": 21,
      "outputs": []
    },
    {
      "cell_type": "code",
      "metadata": {
        "id": "2LheiXWVFDEg"
      },
      "source": [
        "class EncoderLayer(nn.Module):\n",
        "    def __init__(self, \n",
        "                 hid_dim, \n",
        "                 n_heads, \n",
        "                 pf_dim,  \n",
        "                 dropout, \n",
        "                 device):\n",
        "        super().__init__()\n",
        "        \n",
        "        self.self_attn_layer_norm = nn.LayerNorm(hid_dim)\n",
        "        self.ff_layer_norm = nn.LayerNorm(hid_dim)\n",
        "        self.self_attention = MultiHeadAttentionLayer(hid_dim, n_heads, dropout, device)\n",
        "        self.positionwise_feedforward = PositionwiseFeedforwardLayer(hid_dim, \n",
        "                                                                     pf_dim, \n",
        "                                                                     dropout)\n",
        "        self.dropout = nn.Dropout(dropout)\n",
        "        \n",
        "    def forward(self, src, src_mask):\n",
        "        \n",
        "        #src = [batch size, src len, hid dim]\n",
        "        #src_mask = [batch size, 1, 1, src len] \n",
        "                \n",
        "        #self attention\n",
        "        _src, _ = self.self_attention(src, src, src, src_mask)\n",
        "        \n",
        "        #dropout, residual connection and layer norm\n",
        "        src = self.self_attn_layer_norm(src + self.dropout(_src))\n",
        "        \n",
        "        #src = [batch size, src len, hid dim]\n",
        "        \n",
        "        #positionwise feedforward\n",
        "        _src = self.positionwise_feedforward(src)\n",
        "        \n",
        "        #dropout, residual and layer norm\n",
        "        src = self.ff_layer_norm(src + self.dropout(_src))\n",
        "        \n",
        "        #src = [batch size, src len, hid dim]\n",
        "        \n",
        "        return src"
      ],
      "execution_count": 22,
      "outputs": []
    },
    {
      "cell_type": "markdown",
      "metadata": {
        "id": "6h_Iqnk4Jg5k"
      },
      "source": [
        "![](https://raw.githubusercontent.com/bentrevett/pytorch-seq2seq/9479fcb532214ad26fd4bda9fcf081a05e1aaf4e/assets/transformer-attention.png)"
      ]
    },
    {
      "cell_type": "code",
      "metadata": {
        "id": "ZZmeHfGhGzkN"
      },
      "source": [
        "class MultiHeadAttentionLayer(nn.Module):\n",
        "    def __init__(self, hid_dim, n_heads, dropout, device):\n",
        "        super().__init__()\n",
        "        \n",
        "        assert hid_dim % n_heads == 0\n",
        "        \n",
        "        self.hid_dim = hid_dim\n",
        "        self.n_heads = n_heads\n",
        "        self.head_dim = hid_dim // n_heads\n",
        "        \n",
        "        self.fc_q = nn.Linear(hid_dim, hid_dim)\n",
        "        self.fc_k = nn.Linear(hid_dim, hid_dim)\n",
        "        self.fc_v = nn.Linear(hid_dim, hid_dim)\n",
        "        \n",
        "        self.fc_o = nn.Linear(hid_dim, hid_dim)\n",
        "        \n",
        "        self.dropout = nn.Dropout(dropout)\n",
        "        \n",
        "        self.scale = torch.sqrt(torch.FloatTensor([self.head_dim])).to(device)\n",
        "        \n",
        "    def forward(self, query, key, value, mask = None):\n",
        "        \n",
        "        batch_size = query.shape[0]\n",
        "        \n",
        "        #query = [batch size, query len, hid dim]\n",
        "        #key = [batch size, key len, hid dim]\n",
        "        #value = [batch size, value len, hid dim]\n",
        "                \n",
        "        Q = self.fc_q(query)\n",
        "        K = self.fc_k(key)\n",
        "        V = self.fc_v(value)\n",
        "        \n",
        "        #Q = [batch size, query len, hid dim]\n",
        "        #K = [batch size, key len, hid dim]\n",
        "        #V = [batch size, value len, hid dim]\n",
        "                \n",
        "        Q = Q.view(batch_size, -1, self.n_heads, self.head_dim).permute(0, 2, 1, 3)\n",
        "        K = K.view(batch_size, -1, self.n_heads, self.head_dim).permute(0, 2, 1, 3)\n",
        "        V = V.view(batch_size, -1, self.n_heads, self.head_dim).permute(0, 2, 1, 3)\n",
        "        \n",
        "        #Q = [batch size, n heads, query len, head dim]\n",
        "        #K = [batch size, n heads, key len, head dim]\n",
        "        #V = [batch size, n heads, value len, head dim]\n",
        "                \n",
        "        energy = torch.matmul(Q, K.permute(0, 1, 3, 2)) / self.scale\n",
        "        \n",
        "        #energy = [batch size, n heads, query len, key len]\n",
        "        \n",
        "        if mask is not None:\n",
        "            energy = energy.masked_fill(mask == 0, -1e10)\n",
        "        \n",
        "        attention = torch.softmax(energy, dim = -1)\n",
        "                \n",
        "        #attention = [batch size, n heads, query len, key len]\n",
        "                \n",
        "        x = torch.matmul(self.dropout(attention), V)\n",
        "        \n",
        "        #x = [batch size, n heads, query len, head dim]\n",
        "        \n",
        "        x = x.permute(0, 2, 1, 3).contiguous()\n",
        "        \n",
        "        #x = [batch size, query len, n heads, head dim]\n",
        "        \n",
        "        x = x.view(batch_size, -1, self.hid_dim)\n",
        "        \n",
        "        #x = [batch size, query len, hid dim]\n",
        "        \n",
        "        x = self.fc_o(x)\n",
        "        \n",
        "        #x = [batch size, query len, hid dim]\n",
        "        \n",
        "        return x, attention"
      ],
      "execution_count": 23,
      "outputs": []
    },
    {
      "cell_type": "code",
      "metadata": {
        "id": "R9w9xDUKL7LU"
      },
      "source": [
        "class PositionwiseFeedforwardLayer(nn.Module):\n",
        "    def __init__(self, hid_dim, pf_dim, dropout):\n",
        "        super().__init__()\n",
        "        \n",
        "        self.fc_1 = nn.Linear(hid_dim, pf_dim)\n",
        "        self.fc_2 = nn.Linear(pf_dim, hid_dim)\n",
        "        \n",
        "        self.dropout = nn.Dropout(dropout)\n",
        "        \n",
        "    def forward(self, x):\n",
        "        \n",
        "        #x = [batch size, seq len, hid dim]\n",
        "        \n",
        "        x = self.dropout(torch.relu(self.fc_1(x)))\n",
        "        \n",
        "        #x = [batch size, seq len, pf dim]\n",
        "        \n",
        "        x = self.fc_2(x)\n",
        "        \n",
        "        #x = [batch size, seq len, hid dim]\n",
        "        \n",
        "        return x"
      ],
      "execution_count": 24,
      "outputs": []
    },
    {
      "cell_type": "markdown",
      "metadata": {
        "id": "YbTr7YPSMRpC"
      },
      "source": [
        "![](https://raw.githubusercontent.com/bentrevett/pytorch-seq2seq/9479fcb532214ad26fd4bda9fcf081a05e1aaf4e/assets/transformer-decoder.png)"
      ]
    },
    {
      "cell_type": "code",
      "metadata": {
        "id": "iWBMMF45MMNS"
      },
      "source": [
        "class Decoder(nn.Module):\n",
        "    def __init__(self, \n",
        "                 output_dim, \n",
        "                 hid_dim, \n",
        "                 n_layers, \n",
        "                 n_heads, \n",
        "                 pf_dim, \n",
        "                 dropout, \n",
        "                 device,\n",
        "                 max_length = 300):\n",
        "        super().__init__()\n",
        "        \n",
        "        self.device = device\n",
        "        \n",
        "        self.tok_embedding = nn.Embedding(output_dim, hid_dim)\n",
        "        self.pos_embedding = nn.Embedding(max_length, hid_dim)\n",
        "        \n",
        "        self.layers = nn.ModuleList([DecoderLayer(hid_dim, \n",
        "                                                  n_heads, \n",
        "                                                  pf_dim, \n",
        "                                                  dropout, \n",
        "                                                  device)\n",
        "                                     for _ in range(n_layers)])\n",
        "        \n",
        "        self.fc_out = nn.Linear(hid_dim, output_dim)\n",
        "        \n",
        "        self.dropout = nn.Dropout(dropout)\n",
        "        \n",
        "        self.scale = torch.sqrt(torch.FloatTensor([hid_dim])).to(device)\n",
        "        \n",
        "    def forward(self, trg, enc_src, trg_mask, src_mask):\n",
        "        \n",
        "        #trg = [batch size, trg len]\n",
        "        #enc_src = [batch size, src len, hid dim]\n",
        "        #trg_mask = [batch size, 1, trg len, trg len]\n",
        "        #src_mask = [batch size, 1, 1, src len]\n",
        "                \n",
        "        batch_size = trg.shape[0]\n",
        "        trg_len = trg.shape[1]\n",
        "        \n",
        "        pos = torch.arange(0, trg_len).unsqueeze(0).repeat(batch_size, 1).to(self.device)\n",
        "                            \n",
        "        #pos = [batch size, trg len]\n",
        "            \n",
        "        trg = self.dropout((self.tok_embedding(trg) * self.scale) + self.pos_embedding(pos))\n",
        "                \n",
        "        #trg = [batch size, trg len, hid dim]\n",
        "        \n",
        "        for layer in self.layers:\n",
        "            trg, attention = layer(trg, enc_src, trg_mask, src_mask)\n",
        "        \n",
        "        #trg = [batch size, trg len, hid dim]\n",
        "        #attention = [batch size, n heads, trg len, src len]\n",
        "        \n",
        "        output = self.fc_out(trg)\n",
        "        \n",
        "        #output = [batch size, trg len, output dim]\n",
        "            \n",
        "        return output, attention"
      ],
      "execution_count": 25,
      "outputs": []
    },
    {
      "cell_type": "code",
      "metadata": {
        "id": "CMEr1IFUMxco"
      },
      "source": [
        "class DecoderLayer(nn.Module):\n",
        "    def __init__(self, \n",
        "                 hid_dim, \n",
        "                 n_heads, \n",
        "                 pf_dim, \n",
        "                 dropout, \n",
        "                 device):\n",
        "        super().__init__()\n",
        "        \n",
        "        self.self_attn_layer_norm = nn.LayerNorm(hid_dim)\n",
        "        self.enc_attn_layer_norm = nn.LayerNorm(hid_dim)\n",
        "        self.ff_layer_norm = nn.LayerNorm(hid_dim)\n",
        "        self.self_attention = MultiHeadAttentionLayer(hid_dim, n_heads, dropout, device)\n",
        "        self.encoder_attention = MultiHeadAttentionLayer(hid_dim, n_heads, dropout, device)\n",
        "        self.positionwise_feedforward = PositionwiseFeedforwardLayer(hid_dim, \n",
        "                                                                     pf_dim, \n",
        "                                                                     dropout)\n",
        "        self.dropout = nn.Dropout(dropout)\n",
        "        \n",
        "    def forward(self, trg, enc_src, trg_mask, src_mask):\n",
        "        \n",
        "        #trg = [batch size, trg len, hid dim]\n",
        "        #enc_src = [batch size, src len, hid dim]\n",
        "        #trg_mask = [batch size, 1, trg len, trg len]\n",
        "        #src_mask = [batch size, 1, 1, src len]\n",
        "        \n",
        "        #self attention\n",
        "        _trg, _ = self.self_attention(trg, trg, trg, trg_mask)\n",
        "        \n",
        "        #dropout, residual connection and layer norm\n",
        "        trg = self.self_attn_layer_norm(trg + self.dropout(_trg))\n",
        "            \n",
        "        #trg = [batch size, trg len, hid dim]\n",
        "            \n",
        "        #encoder attention\n",
        "        _trg, attention = self.encoder_attention(trg, enc_src, enc_src, src_mask)\n",
        "        # query, key, value\n",
        "        \n",
        "        #dropout, residual connection and layer norm\n",
        "        trg = self.enc_attn_layer_norm(trg + self.dropout(_trg))\n",
        "                    \n",
        "        #trg = [batch size, trg len, hid dim]\n",
        "        \n",
        "        #positionwise feedforward\n",
        "        _trg = self.positionwise_feedforward(trg)\n",
        "        \n",
        "        #dropout, residual and layer norm\n",
        "        trg = self.ff_layer_norm(trg + self.dropout(_trg))\n",
        "        \n",
        "        #trg = [batch size, trg len, hid dim]\n",
        "        #attention = [batch size, n heads, trg len, src len]\n",
        "        \n",
        "        return trg, attention"
      ],
      "execution_count": 26,
      "outputs": []
    },
    {
      "cell_type": "markdown",
      "metadata": {
        "id": "udpPhQ2UN8oQ"
      },
      "source": [
        "10000\n",
        "11000\n",
        "11100\n",
        "11100\n",
        "11100"
      ]
    },
    {
      "cell_type": "code",
      "metadata": {
        "id": "Dr3Mg8OGN6ul"
      },
      "source": [
        "class Seq2Seq(nn.Module):\n",
        "    def __init__(self, \n",
        "                 encoder, \n",
        "                 decoder, \n",
        "                 src_pad_idx, \n",
        "                 trg_pad_idx, \n",
        "                 device):\n",
        "        super().__init__()\n",
        "        \n",
        "        self.encoder = encoder\n",
        "        self.decoder = decoder\n",
        "        self.src_pad_idx = src_pad_idx\n",
        "        self.trg_pad_idx = trg_pad_idx\n",
        "        self.device = device\n",
        "        \n",
        "    def make_src_mask(self, src):\n",
        "        \n",
        "        #src = [batch size, src len]\n",
        "        \n",
        "        src_mask = (src != self.src_pad_idx).unsqueeze(1).unsqueeze(2)\n",
        "\n",
        "        #src_mask = [batch size, 1, 1, src len]\n",
        "\n",
        "        return src_mask\n",
        "    \n",
        "    def make_trg_mask(self, trg):\n",
        "        \n",
        "        #trg = [batch size, trg len]\n",
        "        \n",
        "        trg_pad_mask = (trg != self.trg_pad_idx).unsqueeze(1).unsqueeze(2)\n",
        "        \n",
        "        #trg_pad_mask = [batch size, 1, 1, trg len]\n",
        "        \n",
        "        trg_len = trg.shape[1]\n",
        "        \n",
        "        trg_sub_mask = torch.tril(torch.ones((trg_len, trg_len), device = self.device)).bool()\n",
        "        \n",
        "        #trg_sub_mask = [trg len, trg len]\n",
        "            \n",
        "        trg_mask = trg_pad_mask & trg_sub_mask\n",
        "        \n",
        "        #trg_mask = [batch size, 1, trg len, trg len]\n",
        "        \n",
        "        return trg_mask\n",
        "\n",
        "    def forward(self, src, trg):\n",
        "        \n",
        "        #src = [batch size, src len]\n",
        "        #trg = [batch size, trg len]\n",
        "                \n",
        "        src_mask = self.make_src_mask(src)\n",
        "        trg_mask = self.make_trg_mask(trg)\n",
        "        \n",
        "        #src_mask = [batch size, 1, 1, src len]\n",
        "        #trg_mask = [batch size, 1, trg len, trg len]\n",
        "        \n",
        "        enc_src = self.encoder(src, src_mask)\n",
        "        \n",
        "        #enc_src = [batch size, src len, hid dim]\n",
        "                \n",
        "        output, attention = self.decoder(trg, enc_src, trg_mask, src_mask)\n",
        "        \n",
        "        #output = [batch size, trg len, output dim]\n",
        "        #attention = [batch size, n heads, trg len, src len]\n",
        "        \n",
        "        return output, attention"
      ],
      "execution_count": 27,
      "outputs": []
    },
    {
      "cell_type": "code",
      "metadata": {
        "id": "4zsZjSSWOSHc"
      },
      "source": [
        "INPUT_DIM = len(SRC.vocab)\n",
        "OUTPUT_DIM = len(TRG.vocab)\n",
        "HID_DIM = 256\n",
        "ENC_LAYERS = 3\n",
        "DEC_LAYERS = 3\n",
        "ENC_HEADS = 8\n",
        "DEC_HEADS = 8\n",
        "ENC_PF_DIM = 512\n",
        "DEC_PF_DIM = 512\n",
        "ENC_DROPOUT = 0.1\n",
        "DEC_DROPOUT = 0.1\n",
        "\n",
        "enc = Encoder(INPUT_DIM, \n",
        "              HID_DIM, \n",
        "              ENC_LAYERS, \n",
        "              ENC_HEADS, \n",
        "              ENC_PF_DIM, \n",
        "              ENC_DROPOUT, \n",
        "              device)\n",
        "\n",
        "dec = Decoder(OUTPUT_DIM, \n",
        "              HID_DIM, \n",
        "              DEC_LAYERS, \n",
        "              DEC_HEADS, \n",
        "              DEC_PF_DIM, \n",
        "              DEC_DROPOUT, \n",
        "              device)"
      ],
      "execution_count": 28,
      "outputs": []
    },
    {
      "cell_type": "code",
      "metadata": {
        "id": "j5X5WQCkhXbh",
        "colab": {
          "base_uri": "https://localhost:8080/"
        },
        "outputId": "b53cdc9a-0832-4e1b-ba3e-4f376c9a0115"
      },
      "source": [
        "len(TRG.vocab)"
      ],
      "execution_count": 29,
      "outputs": [
        {
          "output_type": "execute_result",
          "data": {
            "text/plain": [
              "8756"
            ]
          },
          "metadata": {
            "tags": []
          },
          "execution_count": 29
        }
      ]
    },
    {
      "cell_type": "code",
      "metadata": {
        "id": "6vP2uQZFfET6",
        "colab": {
          "base_uri": "https://localhost:8080/"
        },
        "outputId": "e696bad3-09f1-44c7-d96c-2ef76da5116f"
      },
      "source": [
        "device"
      ],
      "execution_count": 30,
      "outputs": [
        {
          "output_type": "execute_result",
          "data": {
            "text/plain": [
              "device(type='cuda')"
            ]
          },
          "metadata": {
            "tags": []
          },
          "execution_count": 30
        }
      ]
    },
    {
      "cell_type": "code",
      "metadata": {
        "id": "FBLpklULh6o1"
      },
      "source": [
        ""
      ],
      "execution_count": 30,
      "outputs": []
    },
    {
      "cell_type": "code",
      "metadata": {
        "id": "iYVZYDVcOUGK"
      },
      "source": [
        "SRC_PAD_IDX = SRC.vocab.stoi[SRC.pad_token]\n",
        "TRG_PAD_IDX = TRG.vocab.stoi[TRG.pad_token]\n",
        "\n",
        "model = Seq2Seq(enc, dec, SRC_PAD_IDX, TRG_PAD_IDX, device).to(device)"
      ],
      "execution_count": 31,
      "outputs": []
    },
    {
      "cell_type": "code",
      "metadata": {
        "id": "Qd0ePzj0OzLa",
        "colab": {
          "base_uri": "https://localhost:8080/"
        },
        "outputId": "52a539fb-420e-4a02-caca-71f7bf64c1a0"
      },
      "source": [
        "def count_parameters(model):\n",
        "    return sum(p.numel() for p in model.parameters() if p.requires_grad)\n",
        "\n",
        "print(f'The model has {count_parameters(model):,} trainable parameters')"
      ],
      "execution_count": 32,
      "outputs": [
        {
          "output_type": "stream",
          "text": [
            "The model has 9,142,836 trainable parameters\n"
          ],
          "name": "stdout"
        }
      ]
    },
    {
      "cell_type": "code",
      "metadata": {
        "id": "fmZ0hyo8O0vE"
      },
      "source": [
        "def initialize_weights(m):\n",
        "    if hasattr(m, 'weight') and m.weight.dim() > 1:\n",
        "        nn.init.xavier_uniform_(m.weight.data)"
      ],
      "execution_count": 33,
      "outputs": []
    },
    {
      "cell_type": "code",
      "metadata": {
        "id": "NRtAM9Y4O2N2"
      },
      "source": [
        "model.apply(initialize_weights);"
      ],
      "execution_count": 34,
      "outputs": []
    },
    {
      "cell_type": "code",
      "metadata": {
        "id": "NEpApG3YO3ZE"
      },
      "source": [
        "LEARNING_RATE = 0.0005\n",
        "\n",
        "optimizer = torch.optim.Adam(model.parameters(), lr = LEARNING_RATE)"
      ],
      "execution_count": 35,
      "outputs": []
    },
    {
      "cell_type": "code",
      "metadata": {
        "id": "n9Dy_wWrO46l"
      },
      "source": [
        "#modified the loss function\n",
        "# Built a custom function\n",
        "# If keyword or tab :5\n",
        "# If among top 50 most frequent : 4 ( most common happen to be ones that help wtih syntax)\n",
        "# Rest had a weight 1\n",
        "\n",
        "py_toks = ['(',')','{','}','[',']',':',',',';',\n",
        "            '+','-','*','/','|','&','<','>','=','.',\n",
        "            '%','==','!=','<=','>=','~','^','**',\n",
        "            '+=','-=','*=','/=','%=','/=','//']\n",
        "\n",
        "weight_list = []\n",
        "for idx,word in enumerate(TRG.vocab.itos):\n",
        "\n",
        "\n",
        "  #default\n",
        "  weight = 1.0 \n",
        " \n",
        "\n",
        "  # keyword or tab or common tokens\n",
        "  if (keyword.iskeyword(word)) or ('\\n' in word) or (word in py_toks):\n",
        "      weight = 2.0\n",
        "  \n",
        "  weight_list.append(weight)\n",
        "\n",
        "class_weights = torch.FloatTensor(weight_list).to(device)\n",
        "\n",
        "criterion = nn.CrossEntropyLoss(weight=class_weights, ignore_index = TRG_PAD_IDX)\n"
      ],
      "execution_count": 36,
      "outputs": []
    },
    {
      "cell_type": "code",
      "metadata": {
        "id": "ycBBiEpuO6cG"
      },
      "source": [
        "def train(model, iterator, optimizer, criterion, clip):\n",
        "    \n",
        "    model.train()\n",
        "    \n",
        "    epoch_loss = 0\n",
        "    \n",
        "    for i, batch in enumerate(iterator):\n",
        "        \n",
        "        src = batch.src\n",
        "        trg = batch.trg\n",
        "        \n",
        "        optimizer.zero_grad()\n",
        "        \n",
        "        output, _ = model(src, trg[:,:-1])\n",
        "                \n",
        "        #output = [batch size, trg len - 1, output dim]\n",
        "        #trg = [batch size, trg len]\n",
        "            \n",
        "        output_dim = output.shape[-1]\n",
        "            \n",
        "        output = output.contiguous().view(-1, output_dim)\n",
        "        trg = trg[:,1:].contiguous().view(-1)\n",
        "                \n",
        "        #output = [batch size * trg len - 1, output dim]\n",
        "        #trg = [batch size * trg len - 1]\n",
        "            \n",
        "        loss = criterion(output, trg)\n",
        "        \n",
        "        loss.backward()\n",
        "        \n",
        "        torch.nn.utils.clip_grad_norm_(model.parameters(), clip)\n",
        "        \n",
        "        optimizer.step()\n",
        "        \n",
        "        epoch_loss += loss.item()\n",
        "        \n",
        "    return epoch_loss / len(iterator)"
      ],
      "execution_count": 37,
      "outputs": []
    },
    {
      "cell_type": "code",
      "metadata": {
        "id": "zi3Ev8gaO79_"
      },
      "source": [
        "def evaluate(model, iterator, criterion):\n",
        "    \n",
        "    model.eval()\n",
        "    \n",
        "    epoch_loss = 0\n",
        "    \n",
        "    with torch.no_grad():\n",
        "    \n",
        "        for i, batch in enumerate(iterator):\n",
        "\n",
        "            src = batch.src\n",
        "            trg = batch.trg\n",
        "\n",
        "            output, _ = model(src, trg[:,:-1])\n",
        "            \n",
        "            #output = [batch size, trg len - 1, output dim]\n",
        "            #trg = [batch size, trg len]\n",
        "            \n",
        "            output_dim = output.shape[-1]\n",
        "            \n",
        "            output = output.contiguous().view(-1, output_dim)\n",
        "            trg = trg[:,1:].contiguous().view(-1)\n",
        "            \n",
        "            #output = [batch size * trg len - 1, output dim]\n",
        "            #trg = [batch size * trg len - 1]\n",
        "            \n",
        "            loss = criterion(output, trg)\n",
        "\n",
        "            epoch_loss += loss.item()\n",
        "        \n",
        "    return epoch_loss / len(iterator)"
      ],
      "execution_count": 38,
      "outputs": []
    },
    {
      "cell_type": "code",
      "metadata": {
        "id": "JuB4JqQRO9Wg"
      },
      "source": [
        "def epoch_time(start_time, end_time):\n",
        "    elapsed_time = end_time - start_time\n",
        "    elapsed_mins = int(elapsed_time / 60)\n",
        "    elapsed_secs = int(elapsed_time - (elapsed_mins * 60))\n",
        "    return elapsed_mins, elapsed_secs"
      ],
      "execution_count": 39,
      "outputs": []
    },
    {
      "cell_type": "code",
      "metadata": {
        "id": "aax76Ie4O_Cr",
        "colab": {
          "base_uri": "https://localhost:8080/"
        },
        "outputId": "2ca2473f-7a45-4437-d641-407eaa4fa172"
      },
      "source": [
        "training_vis = pd.DataFrame(columns=['epoch','train_loss','val_loss'])\n",
        "N_EPOCHS = 30\n",
        "CLIP = 1\n",
        "\n",
        "best_valid_loss = float('inf')\n",
        "\n",
        "for epoch in range(N_EPOCHS):\n",
        "    \n",
        "    start_time = time.time()\n",
        "    \n",
        "    train_loss = train(model, train_iterator, optimizer, criterion, CLIP)\n",
        "    valid_loss = evaluate(model, valid_iterator, criterion)\n",
        "    \n",
        "    end_time = time.time()\n",
        "    \n",
        "    epoch_mins, epoch_secs = epoch_time(start_time, end_time)\n",
        "    \n",
        "    if valid_loss < best_valid_loss:\n",
        "        best_valid_loss = valid_loss\n",
        "        torch.save(model.state_dict(), 'tut6-model.pt')\n",
        "    \n",
        "    print(f'Epoch: {epoch+1:02} | Time: {epoch_mins}m {epoch_secs}s')\n",
        "    print(f'\\tTrain Loss: {train_loss:.3f} | Train PPL: {math.exp(train_loss):7.3f}')\n",
        "    print(f'\\t Val. Loss: {valid_loss:.3f} |  Val. PPL: {math.exp(valid_loss):7.3f}')\n",
        "    training_vis.loc[len(training_vis)] = [epoch+1,train_loss,valid_loss]"
      ],
      "execution_count": 40,
      "outputs": [
        {
          "output_type": "stream",
          "text": [
            "Epoch: 01 | Time: 0m 24s\n",
            "\tTrain Loss: 5.029 | Train PPL: 152.767\n",
            "\t Val. Loss: 3.134 |  Val. PPL:  22.968\n",
            "Epoch: 02 | Time: 0m 23s\n",
            "\tTrain Loss: 2.802 | Train PPL:  16.472\n",
            "\t Val. Loss: 2.464 |  Val. PPL:  11.754\n",
            "Epoch: 03 | Time: 0m 24s\n",
            "\tTrain Loss: 2.355 | Train PPL:  10.536\n",
            "\t Val. Loss: 2.138 |  Val. PPL:   8.483\n",
            "Epoch: 04 | Time: 0m 24s\n",
            "\tTrain Loss: 2.077 | Train PPL:   7.984\n",
            "\t Val. Loss: 1.899 |  Val. PPL:   6.681\n",
            "Epoch: 05 | Time: 0m 24s\n",
            "\tTrain Loss: 1.847 | Train PPL:   6.338\n",
            "\t Val. Loss: 1.668 |  Val. PPL:   5.301\n",
            "Epoch: 06 | Time: 0m 25s\n",
            "\tTrain Loss: 1.657 | Train PPL:   5.243\n",
            "\t Val. Loss: 1.513 |  Val. PPL:   4.541\n",
            "Epoch: 07 | Time: 0m 24s\n",
            "\tTrain Loss: 1.494 | Train PPL:   4.456\n",
            "\t Val. Loss: 1.375 |  Val. PPL:   3.955\n",
            "Epoch: 08 | Time: 0m 25s\n",
            "\tTrain Loss: 1.360 | Train PPL:   3.897\n",
            "\t Val. Loss: 1.261 |  Val. PPL:   3.528\n",
            "Epoch: 09 | Time: 0m 25s\n",
            "\tTrain Loss: 1.240 | Train PPL:   3.456\n",
            "\t Val. Loss: 1.145 |  Val. PPL:   3.143\n",
            "Epoch: 10 | Time: 0m 25s\n",
            "\tTrain Loss: 1.128 | Train PPL:   3.089\n",
            "\t Val. Loss: 1.068 |  Val. PPL:   2.910\n",
            "Epoch: 11 | Time: 0m 25s\n",
            "\tTrain Loss: 1.029 | Train PPL:   2.798\n",
            "\t Val. Loss: 0.968 |  Val. PPL:   2.634\n",
            "Epoch: 12 | Time: 0m 25s\n",
            "\tTrain Loss: 0.935 | Train PPL:   2.547\n",
            "\t Val. Loss: 0.899 |  Val. PPL:   2.457\n",
            "Epoch: 13 | Time: 0m 25s\n",
            "\tTrain Loss: 0.854 | Train PPL:   2.350\n",
            "\t Val. Loss: 0.838 |  Val. PPL:   2.312\n",
            "Epoch: 14 | Time: 0m 25s\n",
            "\tTrain Loss: 0.786 | Train PPL:   2.195\n",
            "\t Val. Loss: 0.777 |  Val. PPL:   2.175\n",
            "Epoch: 15 | Time: 0m 25s\n",
            "\tTrain Loss: 0.720 | Train PPL:   2.054\n",
            "\t Val. Loss: 0.726 |  Val. PPL:   2.067\n",
            "Epoch: 16 | Time: 0m 25s\n",
            "\tTrain Loss: 0.663 | Train PPL:   1.940\n",
            "\t Val. Loss: 0.682 |  Val. PPL:   1.977\n",
            "Epoch: 17 | Time: 0m 25s\n",
            "\tTrain Loss: 0.612 | Train PPL:   1.844\n",
            "\t Val. Loss: 0.650 |  Val. PPL:   1.916\n",
            "Epoch: 18 | Time: 0m 25s\n",
            "\tTrain Loss: 0.569 | Train PPL:   1.766\n",
            "\t Val. Loss: 0.620 |  Val. PPL:   1.858\n",
            "Epoch: 19 | Time: 0m 25s\n",
            "\tTrain Loss: 0.529 | Train PPL:   1.697\n",
            "\t Val. Loss: 0.582 |  Val. PPL:   1.790\n",
            "Epoch: 20 | Time: 0m 26s\n",
            "\tTrain Loss: 0.488 | Train PPL:   1.629\n",
            "\t Val. Loss: 0.557 |  Val. PPL:   1.746\n",
            "Epoch: 21 | Time: 0m 25s\n",
            "\tTrain Loss: 0.458 | Train PPL:   1.581\n",
            "\t Val. Loss: 0.538 |  Val. PPL:   1.712\n",
            "Epoch: 22 | Time: 0m 25s\n",
            "\tTrain Loss: 0.427 | Train PPL:   1.533\n",
            "\t Val. Loss: 0.516 |  Val. PPL:   1.675\n",
            "Epoch: 23 | Time: 0m 25s\n",
            "\tTrain Loss: 0.397 | Train PPL:   1.488\n",
            "\t Val. Loss: 0.505 |  Val. PPL:   1.657\n",
            "Epoch: 24 | Time: 0m 26s\n",
            "\tTrain Loss: 0.375 | Train PPL:   1.455\n",
            "\t Val. Loss: 0.489 |  Val. PPL:   1.631\n",
            "Epoch: 25 | Time: 0m 25s\n",
            "\tTrain Loss: 0.354 | Train PPL:   1.425\n",
            "\t Val. Loss: 0.474 |  Val. PPL:   1.607\n",
            "Epoch: 26 | Time: 0m 25s\n",
            "\tTrain Loss: 0.337 | Train PPL:   1.401\n",
            "\t Val. Loss: 0.464 |  Val. PPL:   1.590\n",
            "Epoch: 27 | Time: 0m 25s\n",
            "\tTrain Loss: 0.316 | Train PPL:   1.372\n",
            "\t Val. Loss: 0.460 |  Val. PPL:   1.584\n",
            "Epoch: 28 | Time: 0m 25s\n",
            "\tTrain Loss: 0.297 | Train PPL:   1.346\n",
            "\t Val. Loss: 0.450 |  Val. PPL:   1.569\n",
            "Epoch: 29 | Time: 0m 26s\n",
            "\tTrain Loss: 0.284 | Train PPL:   1.328\n",
            "\t Val. Loss: 0.446 |  Val. PPL:   1.562\n",
            "Epoch: 30 | Time: 0m 25s\n",
            "\tTrain Loss: 0.268 | Train PPL:   1.308\n",
            "\t Val. Loss: 0.433 |  Val. PPL:   1.542\n"
          ],
          "name": "stdout"
        }
      ]
    },
    {
      "cell_type": "code",
      "metadata": {
        "id": "OQk9XWzofZUy",
        "colab": {
          "base_uri": "https://localhost:8080/",
          "height": 279
        },
        "outputId": "7f304d11-7b71-4b7e-de89-75b3d87cbe84"
      },
      "source": [
        "ax = plt.gca()\n",
        "\n",
        "training_vis.plot(kind='line',x='epoch',y='train_loss',ax=ax)\n",
        "training_vis.plot(kind='line',x='epoch',y='val_loss', color='red', ax=ax)\n",
        "\n",
        "plt.show()\n"
      ],
      "execution_count": 41,
      "outputs": [
        {
          "output_type": "display_data",
          "data": {
            "image/png": "[encoded data removed]",
            "text/plain": [
              "<Figure size 432x288 with 1 Axes>"
            ]
          },
          "metadata": {
            "tags": [],
            "needs_background": "light"
          }
        }
      ]
    },
    {
      "cell_type": "code",
      "metadata": {
        "id": "f3_aq7QTPBFc",
        "colab": {
          "base_uri": "https://localhost:8080/"
        },
        "outputId": "ad839171-345d-45bb-b707-4e2c8f498442"
      },
      "source": [
        "model.load_state_dict(torch.load('tut6-model.pt'))\n",
        "\n",
        "test_loss = evaluate(model, test_iterator, criterion)\n",
        "\n",
        "print(f'| Test Loss: {test_loss:.3f} | Test PPL: {math.exp(test_loss):7.3f} |')"
      ],
      "execution_count": 42,
      "outputs": [
        {
          "output_type": "stream",
          "text": [
            "| Test Loss: 0.446 | Test PPL:   1.562 |\n"
          ],
          "name": "stdout"
        }
      ]
    },
    {
      "cell_type": "code",
      "metadata": {
        "id": "RxX-pnxXfTKu"
      },
      "source": [
        ""
      ],
      "execution_count": 42,
      "outputs": []
    },
    {
      "cell_type": "code",
      "metadata": {
        "id": "ieIjql9uPKH1"
      },
      "source": [
        "def translate_sentence(sentence, src_field, trg_field, model, device, max_len = 500):\n",
        "    \n",
        "    model.eval()\n",
        "        \n",
        "    if isinstance(sentence, str):\n",
        "        nlp = spacy.load('en')\n",
        "        tokens = [token.text.lower() for token in nlp(sentence)]\n",
        "    else:\n",
        "        tokens = [token.lower() for token in sentence]\n",
        "\n",
        "    tokens = [src_field.init_token] + tokens + [src_field.eos_token]\n",
        "        \n",
        "    src_indexes = [src_field.vocab.stoi[token] for token in tokens]\n",
        "\n",
        "    src_tensor = torch.LongTensor(src_indexes).unsqueeze(0).to(device)\n",
        "    \n",
        "    src_mask = model.make_src_mask(src_tensor)\n",
        "    \n",
        "    with torch.no_grad():\n",
        "        enc_src = model.encoder(src_tensor, src_mask)\n",
        "\n",
        "    trg_indexes = [trg_field.vocab.stoi[trg_field.init_token]]\n",
        "\n",
        "    for i in range(max_len):\n",
        "\n",
        "        trg_tensor = torch.LongTensor(trg_indexes).unsqueeze(0).to(device)\n",
        "\n",
        "        trg_mask = model.make_trg_mask(trg_tensor)\n",
        "        \n",
        "        with torch.no_grad():\n",
        "            output, attention = model.decoder(trg_tensor, enc_src, trg_mask, src_mask)\n",
        "        \n",
        "        pred_token = output.argmax(2)[:,-1].item()\n",
        "        \n",
        "        trg_indexes.append(pred_token)\n",
        "\n",
        "        if pred_token == trg_field.vocab.stoi[trg_field.eos_token]:\n",
        "            break\n",
        "    \n",
        "    trg_tokens = [trg_field.vocab.itos[i] for i in trg_indexes]\n",
        "    \n",
        "    return trg_tokens[1:], attention"
      ],
      "execution_count": 43,
      "outputs": []
    },
    {
      "cell_type": "code",
      "metadata": {
        "id": "WTBipndfPOlX"
      },
      "source": [
        "def display_attention(sentence, translation, attention, n_heads = 8, n_rows = 4, n_cols = 2):\n",
        "    \n",
        "    assert n_rows * n_cols == n_heads\n",
        "    \n",
        "    fig = plt.figure(figsize=(15,25))\n",
        "    \n",
        "    for i in range(n_heads):\n",
        "        \n",
        "        ax = fig.add_subplot(n_rows, n_cols, i+1)\n",
        "        \n",
        "        _attention = attention.squeeze(0)[i].cpu().detach().numpy()\n",
        "\n",
        "        cax = ax.matshow(_attention, cmap='bone')\n",
        "\n",
        "        ax.tick_params(labelsize=12)\n",
        "        ax.set_xticklabels(['']+['<sos>']+[t.lower() for t in sentence]+['<eos>'], \n",
        "                           rotation=45)\n",
        "        ax.set_yticklabels(['']+translation)\n",
        "\n",
        "        ax.xaxis.set_major_locator(ticker.MultipleLocator(1))\n",
        "        ax.yaxis.set_major_locator(ticker.MultipleLocator(1))\n",
        "\n",
        "    plt.show()"
      ],
      "execution_count": 44,
      "outputs": []
    },
    {
      "cell_type": "code",
      "metadata": {
        "id": "00NTIt5lKkFN"
      },
      "source": [
        "# Function to display generated python code\n",
        "\n",
        "def display_py(trans_list):\n",
        "  print('\\n')\n",
        "  final_str = ''\n",
        "  for string in trans_list:\n",
        "    if string != '\\n':\n",
        "      final_str = final_str + string\n",
        "    else:\n",
        "      final_str= final_str + string\n",
        "  return final_str"
      ],
      "execution_count": 45,
      "outputs": []
    },
    {
      "cell_type": "code",
      "metadata": {
        "id": "TJHNiBOoPQhG",
        "colab": {
          "base_uri": "https://localhost:8080/"
        },
        "outputId": "c7ece583-a585-4541-e9e6-95674360779f"
      },
      "source": [
        "example_idx = random.randint(0,len(train_data))\n",
        "\n",
        "src = vars(train_data.examples[example_idx])['src']\n",
        "trg = vars(train_data.examples[example_idx])['trg']\n",
        "\n",
        "print(f'src = {src}')\n",
        "print(f'trg = {trg}')\n",
        "print(display_py(trg))"
      ],
      "execution_count": 46,
      "outputs": [
        {
          "output_type": "stream",
          "text": [
            "src = ['#', 'write', 'a', 'python', 'function', 'to', 'calculate', 'the', 'dot', 'product', 'of', 'two', 'lists']\n",
            "trg = ['def', ' ', 'func_0', '(', 'l1', ',', ' ', 'l2', ')', ':', '\\n    ', 'return', ' ', 'sum', '(', 'x*y', ' ', 'for', ' ', 'x', ',', 'y', ' ', 'in', ' ', 'zip', '(', 'l1', ',', ' ', 'l2', ')', ')']\n",
            "\n",
            "\n",
            "def func_0(l1, l2):\n",
            "    return sum(x*y for x,y in zip(l1, l2))\n"
          ],
          "name": "stdout"
        }
      ]
    },
    {
      "cell_type": "code",
      "metadata": {
        "id": "dZSai6VDPR3o",
        "colab": {
          "base_uri": "https://localhost:8080/"
        },
        "outputId": "cc21deb4-44ef-4383-bb18-07a1a5a5ec2f"
      },
      "source": [
        "translation, attention = translate_sentence(src, SRC, TRG, model, device)\n",
        "\n",
        "print(f'predicted trg = {translation}')\n",
        "print(display_py(translation[:-1]))"
      ],
      "execution_count": 47,
      "outputs": [
        {
          "output_type": "stream",
          "text": [
            "predicted trg = ['def', ' ', 'dot_product', '(', 'a', ',', ' ', 'b', ')', ':', '\\n    ', 'return', ' ', 'sum', '(', ' ', 'e', '[', '0', ']', ' ', '*', ' ', 'e', '[', '1', ']', ' ', 'for', ' ', 'e', ' ', 'in', ' ', 'zip', '(', 'a', ',', ' ', 'b', ')', ')', '<eos>']\n",
            "\n",
            "\n",
            "def dot_product(a, b):\n",
            "    return sum( e[0] * e[1] for e in zip(a, b))\n"
          ],
          "name": "stdout"
        }
      ]
    },
    {
      "cell_type": "code",
      "metadata": {
        "id": "CHWqhmvtPTJv",
        "colab": {
          "base_uri": "https://localhost:8080/",
          "height": 1000
        },
        "outputId": "c633268a-b0ec-4281-d88c-eaa808981f5c"
      },
      "source": [
        "display_attention(src, translation, attention)\n"
      ],
      "execution_count": 48,
      "outputs": [
        {
          "output_type": "display_data",
          "data": {
            "image/png": "[encoded data removed]",
            "text/plain": [
              "<Figure size 1080x1800 with 8 Axes>"
            ]
          },
          "metadata": {
            "tags": [],
            "needs_background": "light"
          }
        }
      ]
    },
    {
      "cell_type": "code",
      "metadata": {
        "id": "0YyJFiJXPVjr",
        "colab": {
          "base_uri": "https://localhost:8080/"
        },
        "outputId": "14611717-ce2b-41c9-ad36-0d425584a7b3"
      },
      "source": [
        "example_idx = random.randint(0,len(valid_data))\n",
        "\n",
        "src = vars(valid_data.examples[example_idx])['src']\n",
        "trg = vars(valid_data.examples[example_idx])['trg']\n",
        "\n",
        "print(f'src = {src}')\n",
        "print(f'trg = {trg}')\n",
        "print(display_py(trg))"
      ],
      "execution_count": 49,
      "outputs": [
        {
          "output_type": "stream",
          "text": [
            "src = ['#', '41', '.', 'python', 'program', 'to', 'add', 'two', 'matrices', 'using', 'nested', 'list', 'comprehension']\n",
            "trg = ['x', ' ', '=', ' ', '[', '[', '12', ',', '7', ',', '3', ']', ',', '\\n    ', '[4', ' ', ',5', ',', '6', ']', ',', '\\n    ', '[7', ' ', ',8', ',', '9', ']', ']', '\\n\\n', 'y', ' ', '=', ' ', '[', '[', '5', ',', '8', ',', '1', ']', ',', '\\n    ', '[6', ',', '7', ',', '3', ']', ',', '\\n    ', '[4', ',', '5', ',', '9', ']', ']', '\\n\\n', 'var_0', ' ', '=', ' ', '[', '[', 'x', '[', 'i', ']', '[', 'j', ']', ' ', '+', ' ', 'y', '[', 'i', ']', '[', 'j', ']', ' ', ' ', 'for', ' ', 'j', ' ', 'in', ' ', 'range', '(', 'len', '(', 'x', '[', '0', ']', ')', ')', ']', ' ', 'for', ' ', 'i', ' ', 'in', ' ', 'range', '(', 'len', '(', 'x', ')', ')', ']', '\\n\\n', 'for', ' ', 'r', ' ', 'in', ' ', 'var_0', ':', '\\n    ', 'print', '(', 'r', ')']\n",
            "\n",
            "\n",
            "x = [[12,7,3],\n",
            "    [4 ,5,6],\n",
            "    [7 ,8,9]]\n",
            "\n",
            "y = [[5,8,1],\n",
            "    [6,7,3],\n",
            "    [4,5,9]]\n",
            "\n",
            "var_0 = [[x[i][j] + y[i][j]  for j in range(len(x[0]))] for i in range(len(x))]\n",
            "\n",
            "for r in var_0:\n",
            "    print(r)\n"
          ],
          "name": "stdout"
        }
      ]
    },
    {
      "cell_type": "code",
      "metadata": {
        "id": "LDmsvAhoPWze",
        "colab": {
          "base_uri": "https://localhost:8080/"
        },
        "outputId": "ed2008d7-fc68-413f-def4-34aae506c153"
      },
      "source": [
        "translation, attention = translate_sentence(src, SRC, TRG, model, device)\n",
        "\n",
        "print(f'predicted trg = {translation}')\n",
        "print(display_py(translation[:-1]))"
      ],
      "execution_count": 50,
      "outputs": [
        {
          "output_type": "stream",
          "text": [
            "predicted trg = ['x', ' ', '=', ' ', '[', '[', '12', ',', '7', ',', '3', ']', ',', '\\n    ', '[4', ' ', ',5', ',', '6', ']', ',', '\\n    ', '[7', ' ', ',8', ',', '9', ']', ']', '\\n\\n', 'y', ' ', '=', ' ', '[', '[', '5', ',', '8', ',', '1', ']', ',', '\\n    ', '[6', ',', '7', ',', '3', ']', ',', '\\n    ', '[4', ',', '5', ',', '9', ']', ']', '\\n\\n', 'result', ' ', '=', ' ', '[', '[', 'x', '[', 'i', ']', '[', 'j', ']', ' ', '+', ' ', 'y', '[', 'i', ']', ' ', ' ', 'for', ' ', 'r', ' ', 'in', ' ', 'result', ':', '\\n    ', 'print', '(', 'r', ')', '<eos>']\n",
            "\n",
            "\n",
            "x = [[12,7,3],\n",
            "    [4 ,5,6],\n",
            "    [7 ,8,9]]\n",
            "\n",
            "y = [[5,8,1],\n",
            "    [6,7,3],\n",
            "    [4,5,9]]\n",
            "\n",
            "result = [[x[i][j] + y[i]  for r in result:\n",
            "    print(r)\n"
          ],
          "name": "stdout"
        }
      ]
    },
    {
      "cell_type": "code",
      "metadata": {
        "id": "9k_YvNBPPX02",
        "colab": {
          "base_uri": "https://localhost:8080/",
          "height": 1000
        },
        "outputId": "75721446-5a7a-4692-9898-c4cd7aa8edb8"
      },
      "source": [
        "display_attention(src, translation, attention)\n"
      ],
      "execution_count": 51,
      "outputs": [
        {
          "output_type": "display_data",
          "data": {
            "image/png": "[encoded data removed]",
            "text/plain": [
              "<Figure size 1080x1800 with 8 Axes>"
            ]
          },
          "metadata": {
            "tags": [],
            "needs_background": "light"
          }
        }
      ]
    },
    {
      "cell_type": "code",
      "metadata": {
        "id": "V4RJbrqmPZkX",
        "colab": {
          "base_uri": "https://localhost:8080/"
        },
        "outputId": "7d4b4712-9ebc-4ac4-ff78-fb26145f0466"
      },
      "source": [
        "example_idx = random.randint(0,len(test_data))\n",
        "\n",
        "src = vars(test_data.examples[example_idx])['src']\n",
        "trg = vars(test_data.examples[example_idx])['trg']\n",
        "\n",
        "print(f'src = {src}')\n",
        "print(f'trg = {trg}')\n",
        "print(display_py(trg))"
      ],
      "execution_count": 52,
      "outputs": [
        {
          "output_type": "stream",
          "text": [
            "src = ['#', 'write', 'a', 'python', 'function', 'to', 'generate', '6', 'digit', 'otp']\n",
            "trg = ['import', ' ', 'math', ',', ' ', 'random', '\\n', 'def', ' ', 'generateotp', '(', ')', ' ', ':', '\\n    ', 'digits', ' ', '=', ' ', '\"0123456789', '\"', '\\n    ', 'otp', ' ', '=', ' ', '\"', '\"', '\\n    ', 'for', ' ', 'i', ' ', 'in', ' ', 'range', '(', '6', ')', ' ', ':', '\\n        ', 'otp', ' ', '+=', ' ', 'digits', '[', 'math.floor', '(', 'random.random', '(', ')', ' ', '*', ' ', '10', ')', ']', '\\n    ', 'return', ' ', 'otp']\n",
            "\n",
            "\n",
            "import math, random\n",
            "def generateotp() :\n",
            "    digits = \"0123456789\"\n",
            "    otp = \"\"\n",
            "    for i in range(6) :\n",
            "        otp += digits[math.floor(random.random() * 10)]\n",
            "    return otp\n"
          ],
          "name": "stdout"
        }
      ]
    },
    {
      "cell_type": "code",
      "metadata": {
        "id": "oN00r7FqPbGj",
        "colab": {
          "base_uri": "https://localhost:8080/"
        },
        "outputId": "bf26ffaf-f556-42be-b9b9-657ce6bd29dd"
      },
      "source": [
        "translation, attention = translate_sentence(src, SRC, TRG, model, device)\n",
        "\n",
        "print(f'predicted trg = {translation}')\n",
        "print(display_py(translation[:-1]))"
      ],
      "execution_count": 53,
      "outputs": [
        {
          "output_type": "stream",
          "text": [
            "predicted trg = ['import', ' ', 'math', ',', ' ', 'random', '\\n', 'def', ' ', 'generatevar_0', '(', ')', ' ', ':', '\\n    ', 'digits', ' ', '=', ' ', '\"0123456789', '\"', '\\n    ', 'var_0', ' ', '=', ' ', '\"', '\\n    ', 'for', ' ', 'i', ' ', 'in', ' ', 'range', '(', '5', ')', ' ', ':', '\\n        ', 'var_0', ' ', '+=', ' ', 'var_0', '[', 'i', ']', '\\n    ', 'return', ' ', 'var_0', '<eos>']\n",
            "\n",
            "\n",
            "import math, random\n",
            "def generatevar_0() :\n",
            "    digits = \"0123456789\"\n",
            "    var_0 = \"\n",
            "    for i in range(5) :\n",
            "        var_0 += var_0[i]\n",
            "    return var_0\n"
          ],
          "name": "stdout"
        }
      ]
    },
    {
      "cell_type": "code",
      "metadata": {
        "id": "ixzIycViPcI3",
        "colab": {
          "base_uri": "https://localhost:8080/",
          "height": 1000
        },
        "outputId": "9444ecda-6b87-4723-f61f-4977c95ed53f"
      },
      "source": [
        "display_attention(src, translation, attention)\n"
      ],
      "execution_count": 54,
      "outputs": [
        {
          "output_type": "display_data",
          "data": {
            "image/png": "[encoded data removed]",
            "text/plain": [
              "<Figure size 1080x1800 with 8 Axes>"
            ]
          },
          "metadata": {
            "tags": [],
            "needs_background": "light"
          }
        }
      ]
    },
    {
      "cell_type": "code",
      "metadata": {
        "id": "HUZ_pkATogxa"
      },
      "source": [
        "def translate_sentence_vectorized(src_tensor, src_field, trg_field, model, device, max_len=500):\n",
        "    assert isinstance(src_tensor, torch.Tensor)\n",
        "\n",
        "    model.eval()\n",
        "    src_mask = model.make_src_mask(src_tensor)\n",
        "\n",
        "    with torch.no_grad():\n",
        "        enc_src = model.encoder(src_tensor, src_mask)\n",
        "    # enc_src = [batch_sz, src_len, hid_dim]\n",
        "\n",
        "    trg_indexes = [[trg_field.vocab.stoi[trg_field.init_token]] for _ in range(len(src_tensor))]\n",
        "    # Even though some examples might have been completed by producing a <eos> token\n",
        "    # we still need to feed them through the model because other are not yet finished\n",
        "    # and all examples act as a batch. Once every single sentence prediction encounters\n",
        "    # <eos> token, then we can stop predicting.\n",
        "    translations_done = [0] * len(src_tensor)\n",
        "    for i in range(max_len):\n",
        "        trg_tensor = torch.LongTensor(trg_indexes).to(device)\n",
        "        trg_mask = model.make_trg_mask(trg_tensor)\n",
        "        with torch.no_grad():\n",
        "            output, attention = model.decoder(trg_tensor, enc_src, trg_mask, src_mask)\n",
        "        pred_tokens = output.argmax(2)[:,-1]\n",
        "        for i, pred_token_i in enumerate(pred_tokens):\n",
        "            trg_indexes[i].append(pred_token_i)\n",
        "            if pred_token_i == trg_field.vocab.stoi[trg_field.eos_token]:\n",
        "                translations_done[i] = 1\n",
        "        if all(translations_done):\n",
        "            break\n",
        "\n",
        "    # Iterate through each predicted example one by one;\n",
        "    # Cut-off the portion including the after the <eos> token\n",
        "    pred_sentences = []\n",
        "    for trg_sentence in trg_indexes:\n",
        "        pred_sentence = []\n",
        "        for i in range(1, len(trg_sentence)):\n",
        "            if trg_sentence[i] == trg_field.vocab.stoi[trg_field.eos_token]:\n",
        "                break\n",
        "            pred_sentence.append(trg_field.vocab.itos[trg_sentence[i]])\n",
        "        pred_sentences.append(pred_sentence)\n",
        "\n",
        "    return pred_sentences, attention"
      ],
      "execution_count": 55,
      "outputs": []
    },
    {
      "cell_type": "code",
      "metadata": {
        "id": "nG-s4wmnokcJ"
      },
      "source": [
        "from torchtext.data.metrics import bleu_score\n",
        "\n",
        "def calculate_bleu_alt(iterator, src_field, trg_field, model, device, max_len = 50):\n",
        "    trgs = []\n",
        "    pred_trgs = []\n",
        "    with torch.no_grad():\n",
        "        for batch in iterator:\n",
        "            src = batch.src\n",
        "            trg = batch.trg\n",
        "            _trgs = []\n",
        "            for sentence in trg:\n",
        "                tmp = []\n",
        "                # Start from the first token which skips the <start> token\n",
        "                for i in sentence[1:]:\n",
        "                    # Targets are padded. So stop appending as soon as a padding or eos token is encountered\n",
        "                    if i == trg_field.vocab.stoi[trg_field.eos_token] or i == trg_field.vocab.stoi[trg_field.pad_token]:\n",
        "                        break\n",
        "                    tmp.append(trg_field.vocab.itos[i])\n",
        "                _trgs.append([tmp])\n",
        "            trgs += _trgs\n",
        "            pred_trg, _ = translate_sentence_vectorized(src, src_field, trg_field, model, device)\n",
        "            pred_trgs += pred_trg\n",
        "    return pred_trgs, trgs, bleu_score(pred_trgs, trgs)"
      ],
      "execution_count": 56,
      "outputs": []
    },
    {
      "cell_type": "code",
      "metadata": {
        "id": "ksrj1V2YPeCa"
      },
      "source": [
        "from torchtext.data.metrics import bleu_score\n",
        "\n",
        "def calculate_bleu(data, src_field, trg_field, model, device, max_len = 500):\n",
        "    \n",
        "    trgs = []\n",
        "    pred_trgs = []\n",
        "    \n",
        "    for datum in data:\n",
        "        \n",
        "        src = vars(datum)['src']\n",
        "        trg = vars(datum)['trg']\n",
        "        \n",
        "        pred_trg, _ = translate_sentence(src, src_field, trg_field, model, device, max_len)\n",
        "        \n",
        "        #cut off <eos> token\n",
        "        pred_trg = pred_trg[:-1]\n",
        "        \n",
        "        pred_trgs.append(pred_trg)\n",
        "        trgs.append([trg])\n",
        "        \n",
        "    return bleu_score(pred_trgs, trgs)"
      ],
      "execution_count": 57,
      "outputs": []
    },
    {
      "cell_type": "code",
      "metadata": {
        "id": "uWnMnm_UPfNp"
      },
      "source": [
        "#bleu_score = calculate_bleu_alt(test_data, SRC, TRG, model, device)\n",
        "\n",
        "#print(f'BLEU score = {bleu_score*100:.2f}')"
      ],
      "execution_count": 58,
      "outputs": []
    },
    {
      "cell_type": "code",
      "metadata": {
        "id": "tBp2QYMzQM4F",
        "colab": {
          "base_uri": "https://localhost:8080/"
        },
        "outputId": "03f9df75-c729-478b-d1a5-27b86b750c0b"
      },
      "source": [
        "test_sample_idxs = [random.randint(0, len(train_data)) for p in range(0, 25)]\n",
        "for count,example_idx in enumerate(test_sample_idxs):\n",
        "  src = vars(train_data.examples[example_idx])['src']\n",
        "  trg = vars(train_data.examples[example_idx])['trg']\n",
        "  print(50*\"*\" + 'Sample    : ' + str(count + 1) + '  ' + 50*\"*\")\n",
        "  print('\\n')\n",
        "  print(\"*******Gold *******\")\n",
        "  eng = ' '.join(src)\n",
        "  label = display_py(trg)\n",
        "  print(eng)\n",
        "  print(label)\n",
        "  print('\\n')\n",
        "  #print(' '.join(trg))\n",
        "\n",
        "  print(\"*******Predicted *******\")\n",
        "  translation, attention = translate_sentence(src, SRC, TRG, model, device)\n",
        "\n",
        "  print(f'predicted trg = {translation}')\n",
        "  print(display_py(translation[:-1]))\n",
        "  print('\\n')\n",
        "  print(100* \"*\")\n",
        "  print('\\n')"
      ],
      "execution_count": 59,
      "outputs": [
        {
          "output_type": "stream",
          "text": [
            "**************************************************Sample    : 1  **************************************************\n",
            "\n",
            "\n",
            "*******Gold *******\n",
            "\n",
            "\n",
            "# write a python function using list comprehension to find even numbers in a list\n",
            "def find_evennumbers(input_list):\n",
            "  var_0 = [var for var in input_list if var % 2 == 0]\n",
            "  return var_0\n",
            "\n",
            "\n",
            "*******Predicted *******\n",
            "predicted trg = ['def', ' ', 'find_evennumbers', '(', 'input_list', ')', ':', '\\n  ', 'list_using_comp', ' ', '=', ' ', '[var', ' ', 'for', ' ', 'var', ' ', 'in', ' ', 'input_list', ' ', 'if', ' ', 'var', ' ', '%', ' ', '2', ' ', '==', ' ', '0', ']', '\\n  ', 'return', ' ', 'list_using_comp', '<eos>']\n",
            "\n",
            "\n",
            "def find_evennumbers(input_list):\n",
            "  list_using_comp = [var for var in input_list if var % 2 == 0]\n",
            "  return list_using_comp\n",
            "\n",
            "\n",
            "****************************************************************************************************\n",
            "\n",
            "\n",
            "**************************************************Sample    : 2  **************************************************\n",
            "\n",
            "\n",
            "*******Gold *******\n",
            "\n",
            "\n",
            "# 88 write a python fuction to print the depth of a dictionary .\n",
            "def dict_depth(d):\n",
            "    if isinstance(d, dict):\n",
            "        return 1 + (max(map(dict_depth, d.values())) if d else 0)\n",
            "    return 0\n",
            "dic = {'a':1, 'b': {'c': {'d': {}}}}\n",
            "print(dict_depth(dic))\n",
            "\n",
            "\n",
            "*******Predicted *******\n",
            "predicted trg = ['def', ' ', 'dict_depth', '(', 'd', ')', ':', '\\n    ', 'if', ' ', 'isinstance', '(', 'd', ',', ' ', 'dict', ')', ':', '\\n        ', 'return', ' ', '1', ' ', '+', ' ', '(max', '(', 'map', '(', 'dict_depth', ',', ' ', 'd.values', '(', ')', ')', ')', '\\n    ', 'return', ' ', 'if', ' ', 'd', ' ', 'else', ' ', '0', ')', '\\n    ', 'return', ' ', '0', '\\n', 'dic', ' ', '=', ' ', '{', \"'\", 'a', \"'\", ':', '1', ',', ' ', \"'b\", \"'\", ':', ' ', '{', \"'\", 'c', \"'\", ':', ' ', '{', \"'\", ':', ' ', '{}}}}', '\\n', 'print', '(', 'dict_depth', '(', 'dic', ')', ')', '<eos>']\n",
            "\n",
            "\n",
            "def dict_depth(d):\n",
            "    if isinstance(d, dict):\n",
            "        return 1 + (max(map(dict_depth, d.values()))\n",
            "    return if d else 0)\n",
            "    return 0\n",
            "dic = {'a':1, 'b': {'c': {': {}}}}\n",
            "print(dict_depth(dic))\n",
            "\n",
            "\n",
            "****************************************************************************************************\n",
            "\n",
            "\n",
            "**************************************************Sample    : 3  **************************************************\n",
            "\n",
            "\n",
            "*******Gold *******\n",
            "\n",
            "\n",
            "# wrtie a python function to solve tower of hanoi and print necessary statements\n",
            "def towerofhanoi(n , source, destination, auxiliary):\n",
            "    if n==1:\n",
            "        print(\"move disk 1 from source\",source,\"to destination\",destination)\n",
            "        return\n",
            "    towerofhanoi(n-1, source, auxiliary, destination)\n",
            "    print(\"move disk\",n,\"from source\",source,\"to destination\",destination)\n",
            "    towerofhanoi(n-1, auxiliary, destination, source)\n",
            "\n",
            "\n",
            "*******Predicted *******\n",
            "predicted trg = ['def', ' ', 'func_0', '(', 'n', ')', ':', '\\n    ', 'if', ' ', 'n', ' ', '==', ' ', '1', ':', '\\n        ', 'return', ' ', 'n', '\\n    ', 'else', ':', '\\n        ', 'return', ' ', 'n*func_0', '(', 'n-1', ')', '\\n\\n', 'n', ' ', '=', ' ', '[2', ',', ' ', '3', ',', ' ', '4', ',', ' ', '5', ']', '\\n', 'func_0', '(', '4', ',', ' ', '6', ',', ' ', '5', ']', ')', '\\n\\n', 'func_0', '(', 'n', ')', '\\n', 'print', '(', '\"', 'the', ' ', 'original', ' ', 'list', ' ', 'is', ':', ' ', '\"', ',', ' ', 'str', '(', 'n', ')', ')', '\\n', 'for', ' ', 'i', ' ', 'in', ' ', 'range', '(', 'n', ')', ':', '\\n    ', 'for', ' ', 'j', ' ', 'in', ' ', 'range', '(', 'n', ')', ':', '\\n        ', 'if', ' ', 'not', ' ', 'j', ' ', 'in', ' ', 'range', '(', 'n', ')', ':', '\\n            ', 'print', '(', 'i', ')', '\\n            ', 'print', '(', '\"', 'move', ' ', 'disk', ' ', 'from', ' ', 'disk', ' ', '\"', ',', '\"', ',', ' ', 'source', ',', ' ', 'source', ',', ' ', 'destination', ')', '\\n        ', 'return', ' ', 'func_0', '(', 'n-1', ')', '<eos>']\n",
            "\n",
            "\n",
            "def func_0(n):\n",
            "    if n == 1:\n",
            "        return n\n",
            "    else:\n",
            "        return n*func_0(n-1)\n",
            "\n",
            "n = [2, 3, 4, 5]\n",
            "func_0(4, 6, 5])\n",
            "\n",
            "func_0(n)\n",
            "print(\"the original list is: \", str(n))\n",
            "for i in range(n):\n",
            "    for j in range(n):\n",
            "        if not j in range(n):\n",
            "            print(i)\n",
            "            print(\"move disk from disk \",\", source, source, destination)\n",
            "        return func_0(n-1)\n",
            "\n",
            "\n",
            "****************************************************************************************************\n",
            "\n",
            "\n",
            "**************************************************Sample    : 4  **************************************************\n",
            "\n",
            "\n",
            "*******Gold *******\n",
            "\n",
            "\n",
            "# write a function to return the torque when a force f is applied at angle thea and distance for axis of rotation to place force applied is r\n",
            "def func_0(force:float,theta:float,r:float)->float:\n",
            "    import math\n",
            "    return force*r*math.sin(theta)\n",
            "\n",
            "\n",
            "*******Predicted *******\n",
            "predicted trg = ['def', ' ', 'func_0', '(', 'force', ':', 'float', ',', 'theta', ':', 'float', ',', 'theta', ':', 'float', ')', '->float', ':', '\\n    ', 'import', ' ', 'math', '\\n    ', 'return', ' ', 'force*r*math.sin', '(', 'theta', ')', '<eos>']\n",
            "\n",
            "\n",
            "def func_0(force:float,theta:float,theta:float)->float:\n",
            "    import math\n",
            "    return force*r*math.sin(theta)\n",
            "\n",
            "\n",
            "****************************************************************************************************\n",
            "\n",
            "\n",
            "**************************************************Sample    : 5  **************************************************\n",
            "\n",
            "\n",
            "*******Gold *******\n",
            "\n",
            "\n",
            "# 100 write a python program that checks if a string is a pallindrome\n",
            "def is_palindrome(st):\n",
            "    st = st.lower()\n",
            "    var_1 = st[::-1]\n",
            "    try:\n",
            "        assert var_1 == st\n",
            "        return true\n",
            "    except assertionerror:\n",
            "        return false\n",
            "\n",
            "\n",
            "st = \"nitin\"\n",
            "print(is_palindrome(st))\n",
            "\n",
            "\n",
            "*******Predicted *******\n",
            "predicted trg = ['def', ' ', 'is_palindrome', '(', 'st', ')', ':', '\\n    ', 'st', ' ', '=', ' ', 'st.lower', '(', ')', '\\n    ', 'st', '[', ':', ':', ':', '-1', ']', '\\n    ', 'try', ':', '\\n        ', 'assert', ' ', 'rev_st', ' ', '==', ' ', 'st', '\\n        ', 'return', ' ', 'true', '\\n    ', 'except', ' ', 'assertionerror', ':', '\\n        ', 'return', ' ', 'false', '\\n\\n\\n', 'st', ' ', '=', ' ', '\"nitin', '\"', '\\n', 'print', '(', 'is_palindrome', '(', 'st', ')', ')', '<eos>']\n",
            "\n",
            "\n",
            "def is_palindrome(st):\n",
            "    st = st.lower()\n",
            "    st[:::-1]\n",
            "    try:\n",
            "        assert rev_st == st\n",
            "        return true\n",
            "    except assertionerror:\n",
            "        return false\n",
            "\n",
            "\n",
            "st = \"nitin\"\n",
            "print(is_palindrome(st))\n",
            "\n",
            "\n",
            "****************************************************************************************************\n",
            "\n",
            "\n",
            "**************************************************Sample    : 6  **************************************************\n",
            "\n",
            "\n",
            "*******Gold *******\n",
            "\n",
            "\n",
            "# write a python function to perform random selection from itertools.combinations_with_replacement(iterable , r )\n",
            "def ravar_2dom_combivar_2atiovar_2_with_replacemevar_2t(iterable, r):\n",
            "    import ravar_2dom\n",
            "    pool = tuple(iterable)\n",
            "    var_2 = levar_2(pool)\n",
            "    ivar_2dices = sorted(ravar_2dom.choices(ravar_2ge(var_2), k=r))\n",
            "    returvar_2 tuple(pool[i] for i ivar_2 ivar_2dices)\n",
            "\n",
            "\n",
            "*******Predicted *******\n",
            "predicted trg = ['def', ' ', 'random_combination_with_replacement', '(', 'iterable', ',', ' ', 'r', ')', ':', '\\n    ', 'import', ' ', 'random', '\\n    ', 'pool', ' ', '=', ' ', 'tuple', '(', 'iterable', ')', '\\n    ', 'n', ' ', '=', ' ', 'len', '(', 'pool', ')', '\\n    ', 'indices', ' ', '=', ' ', 'sorted', '(', 'random.choices', '(', 'range', '(', 'n', ')', ',', ' ', 'k=r', ')', ')', '\\n    ', 'return', ' ', 'tuple', '(', 'pool', '[', 'i', ']', ' ', 'for', ' ', 'i', ' ', 'in', ' ', 'indices', ')', '<eos>']\n",
            "\n",
            "\n",
            "def random_combination_with_replacement(iterable, r):\n",
            "    import random\n",
            "    pool = tuple(iterable)\n",
            "    n = len(pool)\n",
            "    indices = sorted(random.choices(range(n), k=r))\n",
            "    return tuple(pool[i] for i in indices)\n",
            "\n",
            "\n",
            "****************************************************************************************************\n",
            "\n",
            "\n",
            "**************************************************Sample    : 7  **************************************************\n",
            "\n",
            "\n",
            "*******Gold *******\n",
            "\n",
            "\n",
            "# write a python function to find the union of two arrays\n",
            "def func_0(a,b):\n",
            "    union=list(set(a)|set(b))\n",
            "    return union\n",
            "\n",
            "\n",
            "*******Predicted *******\n",
            "predicted trg = ['def', ' ', 'array_var_0', '(', 'a', ',', 'b', ')', ':', '\\n    ', 'var_0=list', '(', 'set', '(', 'a', ')', '|set', '(', 'b', ')', ')', '\\n    ', 'return', ' ', 'var_0', '<eos>']\n",
            "\n",
            "\n",
            "def array_var_0(a,b):\n",
            "    var_0=list(set(a)|set(b))\n",
            "    return var_0\n",
            "\n",
            "\n",
            "****************************************************************************************************\n",
            "\n",
            "\n",
            "**************************************************Sample    : 8  **************************************************\n",
            "\n",
            "\n",
            "*******Gold *******\n",
            "\n",
            "\n",
            "#   given a python list , remove all occurrence of a given number from the list\n",
            "num1 = 20\n",
            "list1 = [5, 20, 15, 20, 25, 50, 20]\n",
            "\n",
            "def removevalue(samplelist, val):\n",
            "    return [value for value in samplelist if value != val]\n",
            "var_2 = removevalue(list1, num1)\n",
            "print(var_2)\n",
            "\n",
            "# shuffle a list randomly\n",
            "import random\n",
            "list = [2,5,8,9,12]\n",
            "random.shuffle(list)\n",
            "print (\"printing shuffled list \", list)\n",
            "\n",
            "\n",
            "*******Predicted *******\n",
            "predicted trg = ['num1', ' ', '=', ' ', '20', '\\n', 'list1', ' ', '=', ' ', '[5', ',', ' ', '20', ',', ' ', '15', ',', ' ', '20', ',', ' ', '25', ',', ' ', '50', ',', ' ', '20', ']', '\\n\\n', 'def', ' ', 'removevalue', '(', 'samplelist', ',', ' ', 'val', ')', ':', '\\n    ', 'return', ' ', '[value', ' ', 'for', ' ', 'value', ' ', 'in', ' ', 'samplelist', ' ', 'if', ' ', 'value', ' ', '!=', ' ', 'val', ']', '\\n', 'reslist', ' ', '=', ' ', 'removevalue', '(', 'var_01', ',', ' ', 'num1', ')', '\\n', 'print', '(', 'reslist', ')', '\\n\\n', '#', ' ', 'shuffle', ' ', 'a', ' ', 'var_0', ' ', 'randomly', '\\n', 'import', ' ', 'random', '\\n', 'list', ' ', '=', ' ', '[2', ',', '5', ',', '8', ',', '9', ',', '12', ']', '\\n', 'random.shuffle', '(', 'list', ')', '\\n', 'print', ' ', '(', '\"', 'printing', ' ', 'shuffled', ' ', 'var_0', ' ', '\"', ',', ' ', 'var_0', ')', '<eos>']\n",
            "\n",
            "\n",
            "num1 = 20\n",
            "list1 = [5, 20, 15, 20, 25, 50, 20]\n",
            "\n",
            "def removevalue(samplelist, val):\n",
            "    return [value for value in samplelist if value != val]\n",
            "reslist = removevalue(var_01, num1)\n",
            "print(reslist)\n",
            "\n",
            "# shuffle a var_0 randomly\n",
            "import random\n",
            "list = [2,5,8,9,12]\n",
            "random.shuffle(list)\n",
            "print (\"printing shuffled var_0 \", var_0)\n",
            "\n",
            "\n",
            "****************************************************************************************************\n",
            "\n",
            "\n",
            "**************************************************Sample    : 9  **************************************************\n",
            "\n",
            "\n",
            "*******Gold *******\n",
            "\n",
            "\n",
            "# write a python program to find and print the longest word in a sentence\n",
            "string = \"python java c c++ javascript pascal php\"\n",
            "\n",
            "print(string)\n",
            "\n",
            "var_0 = string.split()\n",
            "\n",
            "id_longest = 0\n",
            "\n",
            "for i in range(1, len(var_0)):\n",
            "    if len(var_0[id_longest]) < len(var_0[i]):\n",
            "        id_longest = i\n",
            "\n",
            "print(var_0[id_longest])\n",
            "\n",
            "\n",
            "*******Predicted *******\n",
            "predicted trg = ['sentence', ' ', '=', ' ', \"'the\", ' ', 'quick', ' ', 'brown', ' ', 'fox', ' ', 'jumps', ' ', 'over', ' ', 'the', ' ', 'lazy', ' ', 'dog', \"'\", '\\n', 'words', ' ', '=', ' ', 'sentence.split', '(', \"'\", ' ', \"'\", ')', '\\n', 'lengths', ' ', '=', ' ', '[str', '(', 'len', '(', 'word', ')', ')', ' ', 'for', ' ', 'word', ' ', 'in', ' ', 'words', ']', '\\n', 'print', '(', \"'\", ' ', \"'.join\", '(', 'lengths', ')', ')', '<eos>']\n",
            "\n",
            "\n",
            "sentence = 'the quick brown fox jumps over the lazy dog'\n",
            "words = sentence.split(' ')\n",
            "lengths = [str(len(word)) for word in words]\n",
            "print(' '.join(lengths))\n",
            "\n",
            "\n",
            "****************************************************************************************************\n",
            "\n",
            "\n",
            "**************************************************Sample    : 10  **************************************************\n",
            "\n",
            "\n",
            "*******Gold *******\n",
            "\n",
            "\n",
            "# write a python program to print the sum of digits of a number\n",
            "n = 12345\n",
            "q = 0\n",
            "while(n>0):\n",
            " r=n%10\n",
            " q=q+r\n",
            " n=n//10\n",
            "print(\"sum of digits is: \"+str(q))\n",
            "\n",
            "\n",
            "*******Predicted *******\n",
            "predicted trg = ['n', ' ', '=', ' ', 'int', '(', 'input', '(', '\"', 'enter', ' ', 'number', ':', ' ', '\"', ')', ')', '\\n', 'digits', ' ', '=', ' ', '0', '\\n', 'for', ' ', 'i', ' ', 'in', ' ', 'range', '(', '0', ',', ' ', 'n', ')', ':', '\\n    ', 'if', '(', 'digits', '[', 'i', ']', ' ', '%', ' ', '2', ' ', '==', ' ', '0', ')', ':', '\\n        ', 'sum', ' ', '+=', ' ', '1', '\\n    ', 'return', ' ', 'var_0', '\\n', 'print', '(', 'f', \"'\", 'number', ' ', 'of', ' ', 'digits', ':', ' ', '\"', ')', '<eos>']\n",
            "\n",
            "\n",
            "n = int(input(\"enter number: \"))\n",
            "digits = 0\n",
            "for i in range(0, n):\n",
            "    if(digits[i] % 2 == 0):\n",
            "        sum += 1\n",
            "    return var_0\n",
            "print(f'number of digits: \")\n",
            "\n",
            "\n",
            "****************************************************************************************************\n",
            "\n",
            "\n",
            "**************************************************Sample    : 11  **************************************************\n",
            "\n",
            "\n",
            "*******Gold *******\n",
            "\n",
            "\n",
            "# write a function to get the cumulative sum of a list\n",
            "def cumulative(lists):\n",
            "    cu_list = []\n",
            "    var_1 = len(lists)\n",
            "    cu_list = [sum(lists[0:x:1]) for x in range(0, var_1+1)]\n",
            "    return cu_list[1:]\n",
            "\n",
            "\n",
            "*******Predicted *******\n",
            "predicted trg = ['def', ' ', 'cumulative', '(', 'lists', ')', ':', '\\n    ', 'cu_list', ' ', '=', ' ', '[', ']', '\\n    ', 'length', ' ', '=', ' ', 'len', '(', 'lists', ')', '\\n    ', 'cu_list', ' ', '=', ' ', '[sum', '(', 'lists', '[', '0', ':', 'x', ':', '1', ']', ')', ' ', 'for', ' ', 'x', ' ', 'in', ' ', 'range', '(', '0', ',', ' ', 'length+1', ')', ']', '\\n    ', 'return', ' ', 'cu_list', '[', '1', ':', ']', '\\n\\n\\n ', '#', ' ', 'write', ' ', 'a', ' ', 'python', ' ', 'program', ' ', 'to', ' ', 'print', ' ', 'if', ' ', 'a', ' ', 'string', ' ', '\"hello', '\"', ' ', 'is', ' ', 'present', ' ', 'in', ' ', 'the', ' ', 'list', '\\n', 'l', ' ', '=', ' ', '[1', ',', ' ', '2.0', ',', ' ', \"'hello\", \"'\", ',', \"'\", 'have', \"'\", ',', ' ', \"'a\", \"'\", ',', ' ', \"'good\", \"'\", ',', ' ', \"'day\", \"'\", ']', '\\n\\n', 's', ' ', '=', ' ', \"'hello\", \"'\", '\\n\\n', 'if', ' ', 's', ' ', 'in', ' ', 'l', ':', '\\n    ', 'print', '(', 'f', \"'\", '{s}', ' ', 'is', ' ', 'present', ' ', 'in', ' ', 'the', ' ', 'list', \"'\", ')', '\\n', 'else', ':', '\\n    ', 'print', '(', 'f', \"'\", '{s}', ' ', 'is', ' ', 'not', ' ', 'present', ' ', 'in', ' ', 'the', ' ', 'list', \"'\", ')', '<eos>']\n",
            "\n",
            "\n",
            "def cumulative(lists):\n",
            "    cu_list = []\n",
            "    length = len(lists)\n",
            "    cu_list = [sum(lists[0:x:1]) for x in range(0, length+1)]\n",
            "    return cu_list[1:]\n",
            "\n",
            "\n",
            " # write a python program to print if a string \"hello\" is present in the list\n",
            "l = [1, 2.0, 'hello','have', 'a', 'good', 'day']\n",
            "\n",
            "s = 'hello'\n",
            "\n",
            "if s in l:\n",
            "    print(f'{s} is present in the list')\n",
            "else:\n",
            "    print(f'{s} is not present in the list')\n",
            "\n",
            "\n",
            "****************************************************************************************************\n",
            "\n",
            "\n",
            "**************************************************Sample    : 12  **************************************************\n",
            "\n",
            "\n",
            "*******Gold *******\n",
            "\n",
            "\n",
            "# write a python program to explain the generator\n",
            "def f11(x):\n",
            "    yield x+1\n",
            "var_0=f11(8)\n",
            "print(next(var_0))\n",
            "\n",
            "\n",
            "*******Predicted *******\n",
            "predicted trg = ['def', ' ', 'f11', '(', 'x', ')', ':', '\\n    ', 'yield', ' ', 'x+1', '\\n', 'g=f11', '(', '8', ')', '\\n', 'print', '(', 'next', '(', 'g', ')', ')', '<eos>']\n",
            "\n",
            "\n",
            "def f11(x):\n",
            "    yield x+1\n",
            "g=f11(8)\n",
            "print(next(g))\n",
            "\n",
            "\n",
            "****************************************************************************************************\n",
            "\n",
            "\n",
            "**************************************************Sample    : 13  **************************************************\n",
            "\n",
            "\n",
            "*******Gold *******\n",
            "\n",
            "\n",
            "# write a python function to check and print if binary representations of two numbers are anagram\n",
            "from collections import counter\n",
            "\n",
            "def checkanagram(num1,num2):\n",
            "    bin1 = bin(num1)[2:]\n",
            "    var_4 = bin(num2)[2:]\n",
            "\n",
            "    zeros = abs(len(bin1)-len(var_4))\n",
            "    if (len(bin1)>len(var_4)):\n",
            "         var_4 = zeros * '0' + var_4\n",
            "    else:\n",
            "         bin1 = zeros * '0' + bin1\n",
            "\n",
            "    dict1 = counter(bin1)\n",
            "    dict2 = counter(var_4)\n",
            "\n",
            "\n",
            "    if dict1 == dict2:\n",
            "         print('yes')\n",
            "    else:\n",
            "         print('no')\n",
            "\n",
            "\n",
            "*******Predicted *******\n",
            "predicted trg = ['from', ' ', 'collections', ' ', 'import', ' ', 'counter', '\\n\\n', 'def', ' ', 'checkanagram', '(', 'num1', ',', 'num2', ')', ':', '\\n    ', 'bin1', ' ', '=', ' ', 'bin', '(', 'num1', ')', '[', '2', ':', ']', '\\n    ', 'bin2', ' ', '=', ' ', 'bin', '(', 'num2', ')', '[', '2', ':', ']', '\\n\\n    ', 'zeros', ' ', '=', ' ', 'abs', '(', 'len', '(', 'bin1', ')', '-len', '(', 'bin2', ')', ')', '\\n    ', 'if', ' ', '(len', '(', 'bin1', ')', '>len', '(', 'bin2', ')', ')', ':', '\\n         ', 'bin2', ' ', '=', ' ', 'zeros', ' ', '*', ' ', \"'0\", \"'\", ' ', '+', ' ', \"'0\", \"'\", ' ', \"'0\", \"'\", ' ', '+', ' ', 'bin2', '\\n    ', 'else', ':', '\\n         ', 'bin1', ' ', '=', ' ', '=', ' ', 'zeros', ' ', '*', ' ', \"'0\", \"'\", ' ', '+', ' ', 'bin1', '\\n\\n    ', 'dict1', ' ', '=', ' ', '=', ' ', 'counter', '(', 'bin1', ')', '\\n    ', 'dict2', ':', '\\n         ', 'print', '(', 'bin1', ')', '<eos>']\n",
            "\n",
            "\n",
            "from collections import counter\n",
            "\n",
            "def checkanagram(num1,num2):\n",
            "    bin1 = bin(num1)[2:]\n",
            "    bin2 = bin(num2)[2:]\n",
            "\n",
            "    zeros = abs(len(bin1)-len(bin2))\n",
            "    if (len(bin1)>len(bin2)):\n",
            "         bin2 = zeros * '0' + '0' '0' + bin2\n",
            "    else:\n",
            "         bin1 = = zeros * '0' + bin1\n",
            "\n",
            "    dict1 = = counter(bin1)\n",
            "    dict2:\n",
            "         print(bin1)\n",
            "\n",
            "\n",
            "****************************************************************************************************\n",
            "\n",
            "\n",
            "**************************************************Sample    : 14  **************************************************\n",
            "\n",
            "\n",
            "*******Gold *******\n",
            "\n",
            "\n",
            "# 77 show all local values while one function is running\n",
            "def show_locvar_1l():\n",
            "    import mvar_1th\n",
            "    var_1 = 10\n",
            "    b = 'hello there'\n",
            "    print(locvar_1ls())\n",
            "\n",
            "\n",
            "*******Predicted *******\n",
            "predicted trg = ['def', ' ', 'show_locvar_1l', '(', ')', ':', '\\n    ', 'import', ' ', 'mvar_1th', '\\n    ', 'var_1', ' ', '=', ' ', '10', '\\n    ', 'b', ' ', '=', ' ', \"'hello\", ' ', 'there', \"'\", '\\n    ', 'print', '(', 'locvar_1ls', '(', ')', ')', '<eos>']\n",
            "\n",
            "\n",
            "def show_locvar_1l():\n",
            "    import mvar_1th\n",
            "    var_1 = 10\n",
            "    b = 'hello there'\n",
            "    print(locvar_1ls())\n",
            "\n",
            "\n",
            "****************************************************************************************************\n",
            "\n",
            "\n",
            "**************************************************Sample    : 15  **************************************************\n",
            "\n",
            "\n",
            "*******Gold *******\n",
            "\n",
            "\n",
            "# given a two list of equal size create a set such that it shows the element from both lists in the pair\n",
            "firstlist = [2, 3, 4, 5, 6, 7, 8]\n",
            "secondlist = [4, 9, 16, 25, 36, 49, 64]\n",
            "result = zip(firstlist, secondlist)\n",
            "resultset = set(result)\n",
            "print(resultset)\n",
            "\n",
            "\n",
            "*******Predicted *******\n",
            "predicted trg = ['firstlist', ' ', '=', ' ', '[2', ',', ' ', '3', ',', ' ', '4', ',', ' ', '5', ',', ' ', '6', ',', ' ', '7', ',', ' ', '8', ']', '\\n', 'secondlist', ' ', '=', ' ', '[4', ',', ' ', '9', ',', ' ', '16', ',', ' ', '25', ',', ' ', '36', ',', ' ', '49', ',', ' ', '64', ']', '\\n', 'result', ' ', '=', ' ', 'zip', '(', 'firstlist', ',', ' ', 'secondlist', ')', '\\n', 'var_0', ' ', '=', ' ', 'set', '(', 'result', ')', '\\n', 'print', '(', 'result', ')', '<eos>']\n",
            "\n",
            "\n",
            "firstlist = [2, 3, 4, 5, 6, 7, 8]\n",
            "secondlist = [4, 9, 16, 25, 36, 49, 64]\n",
            "result = zip(firstlist, secondlist)\n",
            "var_0 = set(result)\n",
            "print(result)\n",
            "\n",
            "\n",
            "****************************************************************************************************\n",
            "\n",
            "\n",
            "**************************************************Sample    : 16  **************************************************\n",
            "\n",
            "\n",
            "*******Gold *******\n",
            "\n",
            "\n",
            "# write a python function that accepts a string and calculate the number of upper case letters and lower case letters\n",
            "def string_test(s):\n",
            "d={\"upper_case\":0, \"lower_case\":0}\n",
            "for c in s:\n",
            "if c.isupper():\n",
            "d[\"upper_case\"]+=1\n",
            "elif c.islower():\n",
            "d[\"lower_case\"]+=1\n",
            "else:\n",
            "pass\n",
            "print (\"original string : \", s)\n",
            "print (\"no. of upper case characters : \", d[\"upper_case\"])\n",
            "print (\"no. of lower case characters : \", d[\"lower_case\"])\n",
            "\n",
            "string_test('the quick brow fox')\n",
            "\n",
            "\n",
            "*******Predicted *******\n",
            "predicted trg = ['def', ' ', 'string_test', '(', 's', ')', ':', '\\n', 'd={', '\"', 'upper_case', '\"', ':', '0', ',', ' ', '\"lower_case', '\"', ':', '0}', '\\n', 'for', ' ', 'c', ' ', 'in', ' ', 's', ':', '\\n', 'if', ' ', 'c.isupper', '(', ')', ':', '\\n', 'd', '[', '\"', 'upper_case', '\"', ']', '+=1', '\\n', 'elif', ' ', 'c.islower', '(', ')', ':', '\\n', 'd', '[', '\"', 'lower_case', '\"', ']', '+=1', '\\n', 'else', ':', '\\n', 'pass', '\\n', 'print', ' ', '(', '\"', 'original', ' ', 'string', ' ', ':', ' ', '\"', ',', ' ', 'd', '[', '\"', 'upper_case', '\"', ']', ')', '\\n', 'print', ' ', '(', '\"', 'no.', ' ', 'of', ' ', 'upper', ' ', 'case', ' ', 'case', ' ', 'case', ' ', ':', ' ', '\"', ',', ' ', 'd', '[', '\"', ']', ')', '\\n', 'print', ' ', '(', '\"', 'no.', ' ', 'of', ' ', 'characters', ' ', 'case', ' ', ':', ' ', '\"', ',', ' ', '\"', 'no.', ' ', 'case', ' ', 'length', ' ', 'case', ' ', 'case', ' ', 'case', ' ', 'case', ' ', 'case', ' ', 'case', ' ', 'case', ' ', ':', ' ', '\"', ',', ' ', 'd', '[', '\"', ']', ')', '\\n', 'print', ' ', '(', '\"', 'lower_case', '\"', 'lower_case', '\"', ']', ')', '<eos>']\n",
            "\n",
            "\n",
            "def string_test(s):\n",
            "d={\"upper_case\":0, \"lower_case\":0}\n",
            "for c in s:\n",
            "if c.isupper():\n",
            "d[\"upper_case\"]+=1\n",
            "elif c.islower():\n",
            "d[\"lower_case\"]+=1\n",
            "else:\n",
            "pass\n",
            "print (\"original string : \", d[\"upper_case\"])\n",
            "print (\"no. of upper case case case : \", d[\"])\n",
            "print (\"no. of characters case : \", \"no. case length case case case case case case case : \", d[\"])\n",
            "print (\"lower_case\"lower_case\"])\n",
            "\n",
            "\n",
            "****************************************************************************************************\n",
            "\n",
            "\n",
            "**************************************************Sample    : 17  **************************************************\n",
            "\n",
            "\n",
            "*******Gold *******\n",
            "\n",
            "\n",
            "# write a python program to combine two dictionary by adding values for common keys\n",
            "dict1 = {'a': 12, 'for': 25, 'c': 9}\n",
            "dict2 = {'geeks': 100, 'geek': 200, 'for': 300}\n",
            "for key in dict2:\n",
            "    if key in dict1:\n",
            "        dict2[key] = dict2[key] + dict1[key]\n",
            "    else:\n",
            "        pass\n",
            "\n",
            "\n",
            "*******Predicted *******\n",
            "predicted trg = ['dict1', ' ', '=', ' ', '{', \"'\", 'a', \"'\", ':', ' ', '12', ',', ' ', \"'for\", \"'\", ':', ' ', '25', ',', ' ', \"'c\", \"'\", ':', ' ', '9}', '\\n', 'dict2', ' ', '=', ' ', '{', \"'\", 'geeks', \"'\", ':', ' ', '100', ',', ' ', \"'geek\", \"'\", ':', ' ', '200', ',', ' ', \"'for\", \"'\", ':', ' ', '300}', '\\n', 'for', ' ', 'key', ' ', 'in', ' ', 'dict1', ':', '\\n    ', 'if', ' ', 'key', ' ', 'in', ' ', 'dict1', ':', '\\n        ', 'dict2', '[', 'key', ']', ' ', '=', ' ', 'dict2', '[', 'key', ']', ' ', '+', ' ', 'dict1', '[', 'key', ']', '\\n    ', 'else', ':', '\\n        ', 'pass', '<eos>']\n",
            "\n",
            "\n",
            "dict1 = {'a': 12, 'for': 25, 'c': 9}\n",
            "dict2 = {'geeks': 100, 'geek': 200, 'for': 300}\n",
            "for key in dict1:\n",
            "    if key in dict1:\n",
            "        dict2[key] = dict2[key] + dict1[key]\n",
            "    else:\n",
            "        pass\n",
            "\n",
            "\n",
            "****************************************************************************************************\n",
            "\n",
            "\n",
            "**************************************************Sample    : 18  **************************************************\n",
            "\n",
            "\n",
            "*******Gold *******\n",
            "\n",
            "\n",
            "# given a two sets find the intersection and remove those elements from the first set\n",
            "firstset  = {23, 42, 65, 57, 78, 83, 29}\n",
            "secondset = {57, 83, 29, 67, 73, 43, 48}\n",
            "\n",
            "var_0 = firstset.var_0(secondset)\n",
            "for item in var_0:\n",
            "  firstset.remove(item)\n",
            "print(\"first set after removing common element \", firstset)\n",
            "\n",
            "\n",
            "*******Predicted *******\n",
            "predicted trg = ['firstset', ' ', '=', ' ', '{23', ',', ' ', '42', ',', ' ', '65', ',', ' ', '57', ',', ' ', '78', ',', ' ', '83', ',', ' ', '29}', '\\n', 'secondset', ' ', '=', ' ', '{57', ',', ' ', '83', ',', ' ', '29', ',', ' ', '67', ',', ' ', '73', ',', ' ', '43', ',', ' ', '48}', '\\n\\n', 'intersection', ' ', '=', ' ', 'firstset.intersection', '(', 'secondset', ')', '\\n', 'for', ' ', 'item', ' ', 'in', ' ', 'intersection', ':', '\\n  ', 'firstset.remove', '(', 'item', ')', '\\n', 'print', '(', '\"', 'first', ' ', 'set', ' ', 'after', ' ', 'removing', ' ', 'common', ' ', 'element', ' ', '\"', ',', ' ', 'firstset', ')', '<eos>']\n",
            "\n",
            "\n",
            "firstset = {23, 42, 65, 57, 78, 83, 29}\n",
            "secondset = {57, 83, 29, 67, 73, 43, 48}\n",
            "\n",
            "intersection = firstset.intersection(secondset)\n",
            "for item in intersection:\n",
            "  firstset.remove(item)\n",
            "print(\"first set after removing common element \", firstset)\n",
            "\n",
            "\n",
            "****************************************************************************************************\n",
            "\n",
            "\n",
            "**************************************************Sample    : 19  **************************************************\n",
            "\n",
            "\n",
            "*******Gold *******\n",
            "\n",
            "\n",
            "# 30 . write a python function to find hcf or gcd and return the value\n",
            "def compute_var_0(x, y):\n",
            "\n",
            "# choose the smaller number\n",
            "    if x > y:\n",
            "        smaller = y\n",
            "    else:\n",
            "        smaller = x\n",
            "    for i in range(1, smaller+1):\n",
            "        if((x % i == 0) and (y % i == 0)):\n",
            "            var_0 = i\n",
            "    return var_0\n",
            "\n",
            "\n",
            "*******Predicted *******\n",
            "predicted trg = ['def', ' ', 'compute_hcf', '(', 'x', ',', ' ', 'y', ')', ':', '\\n\\n', '#', ' ', 'choose', ' ', 'the', ' ', 'smaller', ' ', 'number', '\\n    ', 'if', ' ', 'x', ' ', '>', ' ', 'y', ':', '\\n        ', 'smaller', ' ', '=', ' ', 'y', '\\n    ', 'else', ':', '\\n        ', 'smaller', ' ', '=', ' ', 'x', '\\n    ', 'for', ' ', 'i', ' ', 'in', ' ', 'range', '(', '1', ',', ' ', 'smaller+1', ')', ':', '\\n        ', 'if', '(', '(', 'x', ' ', '%', ' ', 'i', ' ', '==', ' ', '0', ')', ' ', 'and', ' ', '(y', ' ', '%', ' ', 'i', ' ', '==', ' ', '0', ')', ')', ':', '\\n            ', 'hcf', ' ', '=', ' ', 'i', '\\n    ', 'return', ' ', 'hcf', '\\n\\n', 'num1', ' ', '=', ' ', '54', '\\n', 'num2', ' ', '=', ' ', '24', '\\n\\n', 'print', '(', '\"', 'the', ' ', 'h.c.f.', ' ', 'is', '\"', ',', ' ', 'compute_hcf', '(', 'num1', ',', ' ', 'num2', ')', ')', '<eos>']\n",
            "\n",
            "\n",
            "def compute_hcf(x, y):\n",
            "\n",
            "# choose the smaller number\n",
            "    if x > y:\n",
            "        smaller = y\n",
            "    else:\n",
            "        smaller = x\n",
            "    for i in range(1, smaller+1):\n",
            "        if((x % i == 0) and (y % i == 0)):\n",
            "            hcf = i\n",
            "    return hcf\n",
            "\n",
            "num1 = 54\n",
            "num2 = 24\n",
            "\n",
            "print(\"the h.c.f. is\", compute_hcf(num1, num2))\n",
            "\n",
            "\n",
            "****************************************************************************************************\n",
            "\n",
            "\n",
            "**************************************************Sample    : 20  **************************************************\n",
            "\n",
            "\n",
            "*******Gold *******\n",
            "\n",
            "\n",
            "# write a function to check and print if a string starts with a substring using regex in python\n",
            "import re\n",
            "\n",
            "\n",
            "def find(string, sample) :\n",
            "    if (sample in string):\n",
            "        y = \"^\" + sample\n",
            "        var_0 = re.search(y, string)\n",
            "        if var_0 :\n",
            "          print(\"string starts with the given substring\")\n",
            "        else :\n",
            "          print(\"string doesn't start with the given substring\")\n",
            "    else :\n",
            "      print(\"entered string isn't a substring\")\n",
            "\n",
            "\n",
            "*******Predicted *******\n",
            "predicted trg = ['import', ' ', 're', '\\n\\n\\n', 'def', ' ', 'find', '(', 'string', ',', ' ', 'sample', ')', ' ', ':', '\\n    ', 'if', ' ', '(sample', ' ', 'in', ' ', 'string', ')', ':', '\\n        ', 'y', ' ', '=', ' ', '\"^', '\"', ' ', '+', ' ', 'sample', '\\n        ', 'x', ' ', '=', ' ', 're.search', '(', 'y', ',', ' ', 'string', ')', '\\n        ', 'if', ' ', 'x', ' ', ':', '\\n          ', 'print', '(', '\"', 'string', ' ', 'starts', ' ', 'with', ' ', 'the', ' ', 'given', ' ', 'substring', '\"', ')', '\\n        ', 'else', ' ', ':', '\\n          ', 'print', '(', '\"', 'string', ' ', 'doesn', \"'\", 't', ' ', 'doesn', \"'\", 't', ' ', 'with', ' ', 'given', ' ', 'substring', '\"', ')', '\\n    ', 'else', ' ', ':', '\\n      ', 'print', '(', '\"', 'entered', ' ', 'string', ' ', 'string', ' ', 'isn', \"'\", 't', ' ', 'substring', '\"', ')', '<eos>']\n",
            "\n",
            "\n",
            "import re\n",
            "\n",
            "\n",
            "def find(string, sample) :\n",
            "    if (sample in string):\n",
            "        y = \"^\" + sample\n",
            "        x = re.search(y, string)\n",
            "        if x :\n",
            "          print(\"string starts with the given substring\")\n",
            "        else :\n",
            "          print(\"string doesn't doesn't with given substring\")\n",
            "    else :\n",
            "      print(\"entered string string isn't substring\")\n",
            "\n",
            "\n",
            "****************************************************************************************************\n",
            "\n",
            "\n",
            "**************************************************Sample    : 21  **************************************************\n",
            "\n",
            "\n",
            "*******Gold *******\n",
            "\n",
            "\n",
            "# write   python3 code to demonstrate working of sort dictionaries list by key 's value list index using sorted ( ) + lambda ( additional parameter in case of tie )\n",
            "test_list = [{\"gfg\" : [6, 7, 9], \"is\" : 9, \"best\" : 10},\n",
            "            {\"gfg\" : [2, 0, 3], \"is\" : 11, \"best\" : 19},\n",
            "            {\"gfg\" : [4, 6, 9], \"is\" : 16, \"best\" : 1}]\n",
            "print(\"the original list : \" + str(test_list))\n",
            "var_2 = \"gfg\"\n",
            "idx = 2\n",
            "var_22 = \"best\"\n",
            "res = sorted(sorted(test_list, key = lambda ele: ele[var_22]), key = lambda ele: ele[var_2][idx])\n",
            "print(\"the required sort order : \" + str(res))\n",
            "\n",
            "\n",
            "*******Predicted *******\n",
            "predicted trg = ['test_list', ' ', '=', ' ', '[{', '\"', 'gfg', '\"', ' ', ':', ' ', '[6', ',', ' ', '7', ',', ' ', '3', ']', ',', ' ', '\"is', '\"', ' ', ':', ' ', '9', ',', ' ', '\"best', '\"', ' ', ':', ' ', '10}', ',', '\\n            ', '{', '\"', 'gfg', '\"', ' ', ':', ' ', '[4', ',', ' ', '5', ',', ' ', '6', ',', ' ', '9', ']', ',', ' ', '\"is', '\"', ' ', ':', ' ', '16', ',', ' ', '\"best', '\"', ' ', ':', ' ', '10}', ',', '\\n            ', '{', '\"', 'gfg', '\"', ' ', ':', ' ', '[2', ',', ' ', '3', ',', ' ', '7', ',', ' ', '9', ']', ',', ' ', '\"is', '\"', ' ', ':', ' ', '16', ',', ' ', '11', ',', ' ', '\"best', '\"', ' ', ':', ' ', '19}', ',', '\\n            ', '{', '\"', 'gfg', '\"', ' ', ':', ' ', '[4', ',', ' ', '6', ',', ' ', '9', ']', ',', ' ', '9', ']', '\\n', 'k', ' ', '=', ' ', '[4', ',', ' ', '7', ',', ' ', '0', ',', ' ', '9', ']', '\\n', 'res', ' ', '=', ' ', 'sorted', '(', 'test_list', ',', ' ', 'key', ' ', '=', ' ', 'lambda', ' ', 'value', ' ', 'in', ' ', 'test_list', ',', ' ', 'test_list', ')', '\\n', 'print', '(', '\"', 'the', ' ', 'required', ' ', 'sort', ' ', ':', ' ', '\"', ' ', '+', ' ', 'str', '(', 'res', ')', ')', ')', '<eos>']\n",
            "\n",
            "\n",
            "test_list = [{\"gfg\" : [6, 7, 3], \"is\" : 9, \"best\" : 10},\n",
            "            {\"gfg\" : [4, 5, 6, 9], \"is\" : 16, \"best\" : 10},\n",
            "            {\"gfg\" : [2, 3, 7, 9], \"is\" : 16, 11, \"best\" : 19},\n",
            "            {\"gfg\" : [4, 6, 9], 9]\n",
            "k = [4, 7, 0, 9]\n",
            "res = sorted(test_list, key = lambda value in test_list, test_list)\n",
            "print(\"the required sort : \" + str(res)))\n",
            "\n",
            "\n",
            "****************************************************************************************************\n",
            "\n",
            "\n",
            "**************************************************Sample    : 22  **************************************************\n",
            "\n",
            "\n",
            "*******Gold *******\n",
            "\n",
            "\n",
            "# write a python program list comprehension to make a list of size n of random integers in ranges a and b\n",
            "import var_3om\n",
            "\n",
            "n = 10\n",
            "a = 1\n",
            "b = 100\n",
            "\n",
            "var_3 = [var_3om.var_3int(a, b) for i in range(n)]\n",
            "print(f'list : {var_3}')\n",
            "\n",
            "\n",
            "*******Predicted *******\n",
            "predicted trg = ['import', ' ', 'math', '\\n\\n', 'def', ' ', 'func_0', '(', 'a', ',', ' ', 'b', ')', ':', '\\n    ', 'return', ' ', 'n', ' ', '*', ' ', '10', ' ', '+', ' ', '20', ')', '\\n\\n', 'def', ' ', 'func_0', '(', 'n', ')', ':', '\\n    ', 'a', ' ', '=', ' ', '1', '\\n    ', 'b', ' ', '=', ' ', 'n', ' ', '-', ' ', '1', ';', '\\n    ', 'return', ' ', 'max', '(', 'n', ')', '\\n\\n', 'lst', ' ', '=', ' ', '20', ')', '\\n', 'print', '(', 'func_0', '(', 'n', ')', '<eos>']\n",
            "\n",
            "\n",
            "import math\n",
            "\n",
            "def func_0(a, b):\n",
            "    return n * 10 + 20)\n",
            "\n",
            "def func_0(n):\n",
            "    a = 1\n",
            "    b = n - 1;\n",
            "    return max(n)\n",
            "\n",
            "lst = 20)\n",
            "print(func_0(n)\n",
            "\n",
            "\n",
            "****************************************************************************************************\n",
            "\n",
            "\n",
            "**************************************************Sample    : 23  **************************************************\n",
            "\n",
            "\n",
            "*******Gold *******\n",
            "\n",
            "\n",
            "# write a python program to program to compute 1/2 + 2/3 + 3/4+ ... +n / n+1 with a given n input by console ( n>0 ) .\n",
            "num = int (input (\"enter number: \"))\n",
            "sum = 0\n",
            "for i in range(num+1):\n",
            "sum += float(i/(i+1))\n",
            "print (\"sum: {:.2f}\".format(sum))\n",
            "\n",
            "\n",
            "*******Predicted *******\n",
            "predicted trg = ['n=int', '(', 'input', '(', '\"', 'enter', ' ', 'number', ':', ' ', '\"', ')', ')', '\\n', 'var_0=0.0', '\\n', 'for', ' ', 'i', ' ', 'in', ' ', 'range', '(', 'i+1', ',', 'n+1', ')', ':', '\\n', 'print', '(', 'i', ')', '<eos>']\n",
            "\n",
            "\n",
            "n=int(input(\"enter number: \"))\n",
            "var_0=0.0\n",
            "for i in range(i+1,n+1):\n",
            "print(i)\n",
            "\n",
            "\n",
            "****************************************************************************************************\n",
            "\n",
            "\n",
            "**************************************************Sample    : 24  **************************************************\n",
            "\n",
            "\n",
            "*******Gold *******\n",
            "\n",
            "\n",
            "# write a python function that performs selection sort on the given list or tuple or string and returns the new sorted sequence\n",
            "def selection_sort(list_to_be_sorted):\n",
            "    sorted_list = list_to_be_sorted[:]\n",
            "    for i in range(len(sorted_list)):\n",
            "        new_min = sorted_list[i]\n",
            "        new_min_old_place = i\n",
            "        for j in range(i+1, len(sorted_list)):\n",
            "            if new_min > sorted_list[j]:\n",
            "                new_min = sorted_list[j]\n",
            "                new_min_old_place = j\n",
            "        old_val = sorted_list[i]\n",
            "        sorted_list[i] = new_min\n",
            "        sorted_list[new_min_old_place] = old_val\n",
            "    return sorted_list\n",
            "\n",
            "\n",
            "*******Predicted *******\n",
            "predicted trg = ['def', ' ', 'selection_sort', '(', 'list_to_be_sorted', ')', ':', '\\n    ', 'sorted_list', ' ', '=', ' ', 'list_to_be_sorted', '[', ':', ']', '\\n    ', 'for', ' ', 'i', ' ', 'in', ' ', 'range', '(', 'len', '(', 'sorted_list', ')', ')', ':', '\\n        ', 'new_min', ' ', '=', ' ', 'sorted_list', '[', 'i', ']', '\\n        ', 'new_min_old_place', ' ', '=', ' ', 'i', '\\n        ', 'for', ' ', 'j', ' ', 'in', ' ', 'range', '(', 'i+1', ',', ' ', 'len', '(', 'sorted_list', ')', ')', ':', '\\n            ', 'if', ' ', 'new_min', ' ', '>', ' ', 'sorted_list', '[', 'j', ']', ':', '\\n                ', 'new_min', ' ', '=', ' ', 'sorted_list', '[', 'j', ']', '\\n                ', 'new_min', ' ', '=', ' ', 'j', '\\n        ', 'old_val', ' ', '=', ' ', 'sorted_list', '[', 'j', ']', '\\n        ', 'sorted_list', '[', 'i', ']', ' ', '=', ' ', 'new_min', '\\n        ', 'sorted_list', '[', 'new_min_old_place', ']', ' ', '=', ' ', 'old_val', '\\n    ', 'return', ' ', 'sorted_list', '<eos>']\n",
            "\n",
            "\n",
            "def selection_sort(list_to_be_sorted):\n",
            "    sorted_list = list_to_be_sorted[:]\n",
            "    for i in range(len(sorted_list)):\n",
            "        new_min = sorted_list[i]\n",
            "        new_min_old_place = i\n",
            "        for j in range(i+1, len(sorted_list)):\n",
            "            if new_min > sorted_list[j]:\n",
            "                new_min = sorted_list[j]\n",
            "                new_min = j\n",
            "        old_val = sorted_list[j]\n",
            "        sorted_list[i] = new_min\n",
            "        sorted_list[new_min_old_place] = old_val\n",
            "    return sorted_list\n",
            "\n",
            "\n",
            "****************************************************************************************************\n",
            "\n",
            "\n",
            "**************************************************Sample    : 25  **************************************************\n",
            "\n",
            "\n",
            "*******Gold *******\n",
            "\n",
            "\n",
            "# write a python program to print all the keys in the dictionary and store it in a list\n",
            "sample_dict = {'1':1, '2':2, '3':3}\n",
            "var_0 = list(sample_dict.keys())\n",
            "print(f\"{var_0}\")\n",
            "\n",
            "\n",
            "*******Predicted *******\n",
            "predicted trg = ['my_list', ' ', '=', ' ', '[10', ',', ' ', '20', ',', ' ', '30', ',', ' ', '40', ',', ' ', '40', ',', ' ', '50', ',', ' ', '60', ',', ' ', '70', ']', '\\n\\n', 'var_0', ' ', '=', ' ', 'list', '(', 'var_0', ')', '\\n', 'print', '(', 'var_0', ')', '<eos>']\n",
            "\n",
            "\n",
            "my_list = [10, 20, 30, 40, 40, 50, 60, 70]\n",
            "\n",
            "var_0 = list(var_0)\n",
            "print(var_0)\n",
            "\n",
            "\n",
            "****************************************************************************************************\n",
            "\n",
            "\n"
          ],
          "name": "stdout"
        }
      ]
    },
    {
      "cell_type": "code",
      "metadata": {
        "id": "ofnpRrcX_wQD",
        "colab": {
          "base_uri": "https://localhost:8080/"
        },
        "outputId": "4b71ec23-bd72-42b5-d6b1-7d53cdb4657c"
      },
      "source": [
        "src =\"write a function to subtract 2 numbers\"\n",
        "\n",
        "translation, attention = translate_sentence(src, SRC, TRG, model, device)\n",
        "#print(len(translation))\n",
        "print(f'predicted trg = {translation}')\n",
        "print(''.join(translation[:-1]))"
      ],
      "execution_count": 99,
      "outputs": [
        {
          "output_type": "stream",
          "text": [
            "predicted trg = ['def', ' ', 'var_0_two_numbers', '(', 'num1', ',', ' ', 'num2', ')', ':', '\\n    ', 'var_0', ' ', '=', ' ', 'num1', ' ', '-', ' ', 'num2', '\\n    ', 'return', ' ', 'var_0', '<eos>']\n",
            "def var_0_two_numbers(num1, num2):\n",
            "    var_0 = num1 - num2\n",
            "    return var_0\n"
          ],
          "name": "stdout"
        }
      ]
    },
    {
      "cell_type": "markdown",
      "metadata": {
        "id": "3RY8KuD8-kq0"
      },
      "source": [
        ""
      ]
    }
  ]
}